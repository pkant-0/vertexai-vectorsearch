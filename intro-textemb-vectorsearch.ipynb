{
 "cells": [
  {
   "cell_type": "code",
   "execution_count": null,
   "metadata": {
    "id": "c3_K0GGSTrhd"
   },
   "outputs": [],
   "source": [
    "# Copyright 2023 Google LLC\n",
    "#\n",
    "# Licensed under the Apache License, Version 2.0 (the \"License\");\n",
    "# you may not use this file except in compliance with the License.\n",
    "# You may obtain a copy of the License at\n",
    "#\n",
    "#     https://www.apache.org/licenses/LICENSE-2.0\n",
    "#\n",
    "# Unless required by applicable law or agreed to in writing, software\n",
    "# distributed under the License is distributed on an \"AS IS\" BASIS,\n",
    "# WITHOUT WARRANTIES OR CONDITIONS OF ANY KIND, either express or implied.\n",
    "# See the License for the specific language governing permissions and\n",
    "# limitations under the License."
   ]
  },
  {
   "cell_type": "markdown",
   "metadata": {
    "id": "7VQkf8sFTeDo"
   },
   "source": [
    "# Getting Started with Text Embeddings + Vertex AI Vector Search\n",
    "\n",
    "\n",
    "<table align=\"left\">\n",
    "  <td style=\"text-align: center\">\n",
    "    <a href=\"https://colab.research.google.com/github/GoogleCloudPlatform/generative-ai/blob/main/embeddings/intro-textemb-vectorsearch.ipynb\">\n",
    "      <img src=\"https://cloud.google.com/ml-engine/images/colab-logo-32px.png\" alt=\"Google Colaboratory logo\"><br> Run in Colab\n",
    "    </a>\n",
    "  </td>\n",
    "  <td style=\"text-align: center\">\n",
    "    <a href=\"https://github.com/GoogleCloudPlatform/generative-ai/blob/main/embeddings/intro-textemb-vectorsearch.ipynb\">\n",
    "      <img src=\"https://cloud.google.com/ml-engine/images/github-logo-32px.png\" alt=\"GitHub logo\"><br> View on GitHub\n",
    "    </a>\n",
    "  </td>\n",
    "  <td style=\"text-align: center\">\n",
    "    <a href=\"https://console.cloud.google.com/vertex-ai/workbench/deploy-notebook?download_url=https://raw.githubusercontent.com/GoogleCloudPlatform/generative-ai/main/embeddings/intro-textemb-vectorsearch.ipynb\">\n",
    "      <img src=\"https://lh3.googleusercontent.com/UiNooY4LUgW_oTvpsNhPpQzsstV5W8F7rYgxgGBD85cWJoLmrOzhVs_ksK_vgx40SHs7jCqkTkCk=e14-rj-sc0xffffff-h130-w32\" alt=\"Vertex AI logo\"><br> Open in Vertex AI Workbench\n",
    "    </a>\n",
    "  </td>\n",
    "</table>"
   ]
  },
  {
   "cell_type": "markdown",
   "metadata": {
    "id": "4d742715e6de"
   },
   "source": [
    "| | |\n",
    "|-|-|\n",
    "|Author(s) | [Smitha Venkat](https://github.com/smitha-google), [Kaz Sato](https://github.com/kazunori279)|"
   ]
  },
  {
   "cell_type": "markdown",
   "metadata": {
    "id": "25a71983a324"
   },
   "source": [
    "## Introduction\n",
    "\n",
    "In this tutorial, you learn how to use Google Cloud AI tools to quickly bring the power of Large Language Models to enterprise systems.  \n",
    "\n",
    "This tutorial covers the following -\n",
    "\n",
    "*   What are embeddings - what business challenges do they help solve ?\n",
    "*   Understanding Text with Vertex AI Text Embeddings\n",
    "*   Find Embeddings fast with Vertex AI Vector Search\n",
    "*   Grounding LLM outputs with Vector Search\n",
    "\n",
    "This tutorial is based on [the blog post](https://cloud.google.com/blog/products/ai-machine-learning/how-to-use-grounding-for-your-llms-with-text-embeddings), combined with sample code.\n",
    "\n",
    "\n",
    "### Prerequisites\n",
    "\n",
    "This tutorial is designed for developers who has basic knowledge and experience with Python programming and machine learning.\n",
    "\n",
    "If you are not reading this tutorial in Qwiklab, then you need to have a Google Cloud project that is linked to a billing account to run this. Please go through [this document](https://cloud.google.com/vertex-ai/docs/start/cloud-environment) to create a project and setup a billing account for it.\n",
    "\n",
    "### Choose the runtime environment\n",
    "\n",
    "The notebook can be run on either Google Colab or [Vertex AI Workbench](https://cloud.google.com/vertex-ai-workbench).\n",
    "\n",
    "- To use Colab: Click [this link](https://colab.research.google.com/github/GoogleCloudPlatform/generative-ai/blob/main/embeddings/intro-textemb-vectorsearch.ipynb) to open the tutorial in Colab.\n",
    "\n",
    "- To use Workbench: If it is the first time to use Workbench in your Google Cloud project, open [the Workbench console](https://console.cloud.google.com/vertex-ai/workbench) and click ENABLE button to enable Notebooks API. Then click [this link](https://console.cloud.google.com/vertex-ai/workbench/deploy-notebook?download_url=https://raw.githubusercontent.com/GoogleCloudPlatform/generative-ai/main/embeddings/intro-textemb-vectorsearch.ipynb),  and select an existing notebook or create a new notebook.\n"
   ]
  },
  {
   "cell_type": "markdown",
   "metadata": {
    "id": "2pImjuenUIQz"
   },
   "source": [
    "### How much will this cost?\n",
    "\n",
    "In case you are using your own Cloud project, not a temporary project on Qwiklab, you need to spend roughly a few US dollars to finish this tutorial.\n",
    "\n",
    "The pricing of the Cloud services we will use in this tutorial are available in the following pages:\n",
    "\n",
    "- [Vertex AI Embeddings for Text](https://cloud.google.com/vertex-ai/pricing#generative_ai_models)\n",
    "- [Vertex AI Vector Search](https://cloud.google.com/vertex-ai/pricing#matchingengine)\n",
    "- [BigQuery](https://cloud.google.com/bigquery/pricing)\n",
    "- [Cloud Storage](https://cloud.google.com/storage/pricing)\n",
    "- [Vertex AI Workbench](https://cloud.google.com/vertex-ai/pricing#notebooks) if you use one\n",
    "\n",
    "You can use the [Pricing Calculator](https://cloud.google.com/products/calculator) to generate a cost estimate based on your projected usage. The following is an example of rough cost estimation with the calculator, assuming you will go through this tutorial a couple of time.\n",
    "\n",
    "<img src=\"https://storage.googleapis.com/github-repo/img/embeddings/vs-quickstart/pricing.png\" width=\"50%\"/>\n",
    "\n",
    "### **Warning: delete your objects after the tutorial**\n",
    "\n",
    "In case you are using your own Cloud project, please make sure to delete all the Indexes, Index Endpoints and Cloud Storage buckets (and the Workbench instance if you use one) after finishing this tutorial. Otherwise the remaining assets would incur unexpected costs.\n"
   ]
  },
  {
   "cell_type": "markdown",
   "metadata": {
    "id": "6Fu2OoUDTQ6w"
   },
   "source": [
    "# Bringing Gen AI and LLMs to production services\n",
    "\n",
    "Many people are now starting to think about how to bring Gen AI and LLMs to production services, and facing with several challenges.\n",
    "\n",
    "- \"How to integrate LLMs or AI chatbots with existing IT systems, databases and business data?\"\n",
    "- \"We have thousands of products. How can I let LLM memorize them all precisely?\"\n",
    "- \"How to handle the hallucination issues in AI chatbots to build a reliable service?\"\n",
    "\n",
    "Here is a quick solution: **grounding** with **embeddings** and **vector search**.\n",
    "\n",
    "What is grounding? What are embedding and vector search? In this tutorial, we will learn these crucial concepts to build reliable Gen AI services for enterprise use. But before we dive deeper, let's try the demo below."
   ]
  },
  {
   "cell_type": "markdown",
   "metadata": {
    "id": "ORqZYLgTm9pJ"
   },
   "source": [
    "![](https://storage.googleapis.com/gweb-cloudblog-publish/original_images/1._demo_animation.gif)\n",
    "\n",
    "**Exercise: Try the Stack Overflow semantic search demo:**\n",
    "\n",
    "This demo is available as a [public live demo](https://ai-demos.dev/). Select \"STACKOVERFLOW\" and enter any coding question as a query, so it runs a text search on **8 million** questions posted on [Stack Overflow](https://stackoverflow.com/). Try the text semantic search with some queries like 'How to shuffle rows in SQL?' or arbitrary programming questions.\n",
    "\n",
    "In this tutorial, we are going to see how to build a similar search experience - what is involved in building solutions like this using Vertex AI Embeddings API and Vector Search."
   ]
  },
  {
   "cell_type": "markdown",
   "metadata": {
    "id": "H1MAIOkCw35V"
   },
   "source": [
    "# What is Embeddings?\n",
    "\n",
    "With the rise of LLMs, why is it becoming important for IT engineers and ITDMs to understand how they work?\n",
    "\n",
    "In traditional IT systems, most data is organized as structured or tabular data, using simple keywords, labels, and categories in databases and search engines.\n",
    "\n",
    "![](https://storage.googleapis.com/github-repo/img/embeddings/textemb-vs-notebook/1.png)\n",
    "\n",
    "In contrast, AI-powered services arrange data into a simple data structure known as \"embeddings.\"\n",
    "\n",
    "![](https://storage.googleapis.com/github-repo/img/embeddings/textemb-vs-notebook/2.png)"
   ]
  },
  {
   "cell_type": "markdown",
   "metadata": {
    "id": "hJqjBmQsxz2Z"
   },
   "source": [
    "Once trained with specific content like text, images, or any content, AI creates a space called \"embedding space\", which is essentially a map of the content's meaning.\n",
    "\n",
    "![](https://storage.googleapis.com/github-repo/img/embeddings/textemb-vs-notebook/3.png)\n",
    "\n",
    "AI can identify the location of each content on the map, that's what embedding is.\n",
    "\n",
    "![](https://storage.googleapis.com/github-repo/img/embeddings/textemb-vs-notebook/4.png)\n",
    "\n",
    "Let's take an example where a text discusses movies, music, and actors, with a distribution of 10%, 2%, and 30%, respectively. In this case, the AI can create an embedding with three values: 0.1, 0.02, and 0.3, in 3 dimensional space.\n",
    "\n",
    "![](https://storage.googleapis.com/github-repo/img/embeddings/textemb-vs-notebook/5.png)\n",
    "\n",
    "AI can put content with similar meanings closely together in the space."
   ]
  },
  {
   "cell_type": "markdown",
   "metadata": {
    "id": "A5z7vyTyzk_4"
   },
   "source": [
    "This is how Google organizes data across various services like Google Search, YouTube, Play, and many others, to provide search results and recommendations with relevant content.\n",
    "\n",
    "Embeddings can also be used to represent different types of things in businesses, such as products, users, user activities, conversations, music & videos, signals from IoT sensors, and so on."
   ]
  },
  {
   "cell_type": "markdown",
   "metadata": {
    "id": "tpKVmyEe0ab9"
   },
   "source": [
    "AI and Embeddings are now playing a crucial role in creating a new way of human-computer interaction.\n",
    "\n",
    "![](https://storage.googleapis.com/github-repo/img/embeddings/textemb-vs-notebook/6.png)\n",
    "\n",
    "AI organizes data into embeddings, which represent what the user is looking for, the meaning of contents, or many other things you have in your business. This creates a new level of user experience that is becoming the new standard.\n",
    "\n",
    "To learn more about embeddings, [Foundational courses: Embeddings on Google Machine Learning Crush Course](https://developers.google.com/machine-learning/crash-course/embeddings/video-lecture) and [Meet AI's multitool: Vector embeddings by Dale Markowitz](https://cloud.google.com/blog/topics/developers-practitioners/meet-ais-multitool-vector-embeddings) are great materials.\n"
   ]
  },
  {
   "cell_type": "markdown",
   "metadata": {
    "id": "ovQpiL2GUEXa"
   },
   "source": [
    "# Vertex AI Embeddings for Text\n",
    "\n",
    "With the [Vertex AI Embeddings for Text](https://cloud.google.com/vertex-ai/docs/generative-ai/embeddings/get-text-embeddings), you can easily create a text embedding with LLM. The product is also available on [Vertex AI Model Garden](https://cloud.google.com/model-garden)\n",
    "\n",
    "![](https://storage.googleapis.com/github-repo/img/embeddings/textemb-vs-notebook/7.png)\n",
    "\n",
    "This API is designed to extract embeddings from texts. It can take text input up to 2048 input tokens, and outputs 768 dimensional text embeddings."
   ]
  },
  {
   "cell_type": "markdown",
   "metadata": {
    "id": "nwJHDPG7lU52"
   },
   "source": [
    "## LLM text embedding business use cases\n",
    "\n",
    "With the embedding API, you can apply the innovation of embeddings, combined with the LLM capability, to various text processing tasks, such as:\n",
    "\n",
    "**LLM-enabled Semantic Search**: text embeddings can be used to represent both the meaning and intent of a user's query and documents in the embedding space. Documents that have similar meaning to the user's query intent will be found fast with vector search technology. The model is capable of generating text embeddings that capture the subtle nuances of each sentence and paragraphs in the document.\n",
    "\n",
    "**LLM-enabled Text Classification**: LLM text embeddings can be used for text classification with a deep understanding of different contexts without any training or fine-tuning (so-called zero-shot learning). This wasn't possible with the past language models without task-specific training.\n",
    "\n",
    "**LLM-enabled Recommendation**: The text embedding can be used for recommendation systems as a strong feature for training recommendation models such as Two-Tower model. The model learns the relationship between the query and candidate embeddings, resulting in next-gen user experience with semantic product recommendation.\n",
    "\n",
    "LLM-enabled Clustering, Anomaly Detection, Sentiment Analysis, and more, can be also handled with the LLM-level deep semantics understanding.\n"
   ]
  },
  {
   "cell_type": "markdown",
   "metadata": {
    "id": "ga5A7koYlvlZ"
   },
   "source": [
    "## Sorting 8 million texts at \"librarian-level\" precision\n",
    "\n",
    "Vertex AI Embeddings for Text has an embedding space with 768 dimensions. As explained earlier, the space represents a huge map of a wide variety of texts in the world, organized by their meanings. With each input text, the model can find a location (embedding) in the map.\n",
    "\n",
    "By visualizing the embedding space, you can actually observe how the model sorts the texts at the \"librarian-level\" precision.\n",
    "\n",
    "**Exercise: Try the Nomic AI Atlas**\n",
    "\n",
    "[Nomic AI](http://nomic.ai/) provides a platform called Atlas for storing, visualizing and interacting with embedding spaces with high scalability and in a smooth UI, and they worked with Google for visualizing the embedding space of the 8 million Stack Overflow questions. You can try exploring around the space, zooming in and out to each data point on your browser on this page, courtesy of Nomic AI.\n",
    "\n",
    "The embedding space represents a huge map of texts, organized by their meanings\n",
    "With each input text, the model can find a location (embedding) in the map\n",
    "Like a librarian reading through millions of texts, sorting them with millions of nano-categories\n",
    "\n",
    "Try exploring it [here](https://atlas.nomic.ai/map/edaff028-12b5-42a0-8e8b-6430c9b8222b/bcb42818-3581-4fb5-ac30-9883d01f98ec). Zoom into a few categories, point each dots, and see how the LLM is sorting similar questions close together in the space.\n",
    "\n",
    "![](https://storage.googleapis.com/gweb-cloudblog-publish/images/4._Nomic_AI_Atlas.max-2200x2200.png)\n",
    "\n",
    "### The librarian-level semantic understanding\n",
    "\n",
    "Here are the examples of the librarian-level semantic understanding by Embeddings API with Stack Overflow questions.\n",
    "\n",
    "![](https://storage.googleapis.com/gweb-cloudblog-publish/images/5._semantic_understanding.max-2200x2200.png)\n",
    "\n",
    "For example, the model thinks the question \"Does moving the request line to a header frame require an app change?\" is similar to the question \"Does an application developed on HTTP1x require modifications to run on HTTP2?\". That is because The model knows both questions talk about what's the change required to support the HTTP2 header frame.\n",
    "\n",
    "Note that this demo didn't require any training or fine-tuning with computer programming specific datasets. This is the innovative part of the zero-shot learning capability of the LLM. It can be applied to a wide variety of industries, including finance, healthcare, retail, manufacturing, construction, media, and more, for deep semantic search on the industry-focused business documents without spending time and cost for collecting industry specific datasets and training models."
   ]
  },
  {
   "cell_type": "markdown",
   "metadata": {
    "id": "-iOWOKnIvYxf"
   },
   "source": [
    "# Text Embeddings in Action\n",
    "\n",
    "Lets try using Text Embeddings in action with actual sample code."
   ]
  },
  {
   "cell_type": "markdown",
   "metadata": {
    "id": "AtXnXhF8U-8R"
   },
   "source": [
    "## Setup\n",
    "\n",
    "Before get started with the Vertex AI services, we need to setup the following.\n",
    "\n",
    "* Install Python SDK\n",
    "* Environment variables\n",
    "* Authentication (Colab only)\n",
    "* Enable APIs\n",
    "* Set IAM permissions"
   ]
  },
  {
   "cell_type": "markdown",
   "metadata": {
    "id": "UjnvWl6FLUlF"
   },
   "source": [
    "### Install Python SDK\n",
    "\n",
    "Vertex AI, Cloud Storage and BigQuery APIs can be accessed with multiple ways including REST API and Python SDK. In this tutorial we will use the SDK."
   ]
  },
  {
   "cell_type": "code",
   "execution_count": 1,
   "metadata": {
    "id": "FZgLGALt_al7",
    "tags": []
   },
   "outputs": [
    {
     "name": "stdout",
     "output_type": "stream",
     "text": [
      "Requirement already satisfied: google-cloud-aiplatform in /opt/conda/lib/python3.10/site-packages (1.70.0)\n",
      "Collecting google-cloud-aiplatform\n",
      "  Downloading google_cloud_aiplatform-1.71.0-py2.py3-none-any.whl.metadata (32 kB)\n",
      "Requirement already satisfied: google-cloud-storage in /opt/conda/lib/python3.10/site-packages (2.14.0)\n",
      "Collecting google-cloud-storage\n",
      "  Downloading google_cloud_storage-2.18.2-py2.py3-none-any.whl.metadata (9.1 kB)\n",
      "Requirement already satisfied: google-cloud-bigquery[pandas] in /opt/conda/lib/python3.10/site-packages (3.25.0)\n",
      "Collecting google-cloud-bigquery[pandas]\n",
      "  Downloading google_cloud_bigquery-3.26.0-py2.py3-none-any.whl.metadata (8.7 kB)\n",
      "Requirement already satisfied: google-api-core!=2.0.*,!=2.1.*,!=2.2.*,!=2.3.*,!=2.4.*,!=2.5.*,!=2.6.*,!=2.7.*,<3.0.0dev,>=1.34.1 in /opt/conda/lib/python3.10/site-packages (from google-api-core[grpc]!=2.0.*,!=2.1.*,!=2.2.*,!=2.3.*,!=2.4.*,!=2.5.*,!=2.6.*,!=2.7.*,<3.0.0dev,>=1.34.1->google-cloud-aiplatform) (1.34.1)\n",
      "Requirement already satisfied: google-auth<3.0.0dev,>=2.14.1 in /opt/conda/lib/python3.10/site-packages (from google-cloud-aiplatform) (2.35.0)\n",
      "Requirement already satisfied: proto-plus<2.0.0dev,>=1.22.3 in /opt/conda/lib/python3.10/site-packages (from google-cloud-aiplatform) (1.24.0)\n",
      "Requirement already satisfied: protobuf!=4.21.0,!=4.21.1,!=4.21.2,!=4.21.3,!=4.21.4,!=4.21.5,<6.0.0dev,>=3.20.2 in /opt/conda/lib/python3.10/site-packages (from google-cloud-aiplatform) (3.20.3)\n",
      "Requirement already satisfied: packaging>=14.3 in /opt/conda/lib/python3.10/site-packages (from google-cloud-aiplatform) (24.1)\n",
      "Requirement already satisfied: google-cloud-resource-manager<3.0.0dev,>=1.3.3 in /opt/conda/lib/python3.10/site-packages (from google-cloud-aiplatform) (1.12.5)\n",
      "Requirement already satisfied: shapely<3.0.0dev in /opt/conda/lib/python3.10/site-packages (from google-cloud-aiplatform) (2.0.6)\n",
      "Requirement already satisfied: pydantic<3 in /opt/conda/lib/python3.10/site-packages (from google-cloud-aiplatform) (2.9.2)\n",
      "Requirement already satisfied: docstring-parser<1 in /opt/conda/lib/python3.10/site-packages (from google-cloud-aiplatform) (0.16)\n",
      "Collecting google-api-core!=2.0.*,!=2.1.*,!=2.2.*,!=2.3.*,!=2.4.*,!=2.5.*,!=2.6.*,!=2.7.*,<3.0.0dev,>=1.34.1 (from google-api-core[grpc]!=2.0.*,!=2.1.*,!=2.2.*,!=2.3.*,!=2.4.*,!=2.5.*,!=2.6.*,!=2.7.*,<3.0.0dev,>=1.34.1->google-cloud-aiplatform)\n",
      "  Downloading google_api_core-2.22.0-py3-none-any.whl.metadata (2.9 kB)\n",
      "Requirement already satisfied: google-cloud-core<3.0dev,>=2.3.0 in /opt/conda/lib/python3.10/site-packages (from google-cloud-storage) (2.4.1)\n",
      "Requirement already satisfied: google-resumable-media>=2.7.2 in /opt/conda/lib/python3.10/site-packages (from google-cloud-storage) (2.7.2)\n",
      "Requirement already satisfied: requests<3.0.0dev,>=2.18.0 in /opt/conda/lib/python3.10/site-packages (from google-cloud-storage) (2.32.3)\n",
      "Requirement already satisfied: google-crc32c<2.0dev,>=1.0 in /opt/conda/lib/python3.10/site-packages (from google-cloud-storage) (1.6.0)\n",
      "Requirement already satisfied: python-dateutil<3.0dev,>=2.7.3 in /opt/conda/lib/python3.10/site-packages (from google-cloud-bigquery[pandas]) (2.9.0.post0)\n",
      "Requirement already satisfied: pandas>=1.1.0 in /opt/conda/lib/python3.10/site-packages (from google-cloud-bigquery[pandas]) (2.2.3)\n",
      "Requirement already satisfied: pyarrow>=3.0.0 in /opt/conda/lib/python3.10/site-packages (from google-cloud-bigquery[pandas]) (15.0.2)\n",
      "Requirement already satisfied: db-dtypes<2.0.0dev,>=0.3.0 in /opt/conda/lib/python3.10/site-packages (from google-cloud-bigquery[pandas]) (1.3.0)\n",
      "Requirement already satisfied: numpy>=1.16.6 in /opt/conda/lib/python3.10/site-packages (from db-dtypes<2.0.0dev,>=0.3.0->google-cloud-bigquery[pandas]) (1.26.4)\n",
      "Requirement already satisfied: googleapis-common-protos<2.0.dev0,>=1.56.2 in /opt/conda/lib/python3.10/site-packages (from google-api-core!=2.0.*,!=2.1.*,!=2.2.*,!=2.3.*,!=2.4.*,!=2.5.*,!=2.6.*,!=2.7.*,<3.0.0dev,>=1.34.1->google-api-core[grpc]!=2.0.*,!=2.1.*,!=2.2.*,!=2.3.*,!=2.4.*,!=2.5.*,!=2.6.*,!=2.7.*,<3.0.0dev,>=1.34.1->google-cloud-aiplatform) (1.65.0)\n",
      "Requirement already satisfied: grpcio<2.0dev,>=1.33.2 in /opt/conda/lib/python3.10/site-packages (from google-api-core[grpc]!=2.0.*,!=2.1.*,!=2.2.*,!=2.3.*,!=2.4.*,!=2.5.*,!=2.6.*,!=2.7.*,<3.0.0dev,>=1.34.1->google-cloud-aiplatform) (1.66.2)\n",
      "Requirement already satisfied: grpcio-status<2.0.dev0,>=1.33.2 in /opt/conda/lib/python3.10/site-packages (from google-api-core[grpc]!=2.0.*,!=2.1.*,!=2.2.*,!=2.3.*,!=2.4.*,!=2.5.*,!=2.6.*,!=2.7.*,<3.0.0dev,>=1.34.1->google-cloud-aiplatform) (1.48.2)\n",
      "Requirement already satisfied: cachetools<6.0,>=2.0.0 in /opt/conda/lib/python3.10/site-packages (from google-auth<3.0.0dev,>=2.14.1->google-cloud-aiplatform) (5.5.0)\n",
      "Requirement already satisfied: pyasn1-modules>=0.2.1 in /opt/conda/lib/python3.10/site-packages (from google-auth<3.0.0dev,>=2.14.1->google-cloud-aiplatform) (0.4.1)\n",
      "Requirement already satisfied: rsa<5,>=3.1.4 in /opt/conda/lib/python3.10/site-packages (from google-auth<3.0.0dev,>=2.14.1->google-cloud-aiplatform) (4.9)\n",
      "Requirement already satisfied: grpc-google-iam-v1<1.0.0dev,>=0.12.4 in /opt/conda/lib/python3.10/site-packages (from google-cloud-resource-manager<3.0.0dev,>=1.3.3->google-cloud-aiplatform) (0.13.1)\n",
      "Requirement already satisfied: pytz>=2020.1 in /opt/conda/lib/python3.10/site-packages (from pandas>=1.1.0->google-cloud-bigquery[pandas]) (2024.2)\n",
      "Requirement already satisfied: tzdata>=2022.7 in /opt/conda/lib/python3.10/site-packages (from pandas>=1.1.0->google-cloud-bigquery[pandas]) (2024.2)\n",
      "Requirement already satisfied: annotated-types>=0.6.0 in /opt/conda/lib/python3.10/site-packages (from pydantic<3->google-cloud-aiplatform) (0.7.0)\n",
      "Requirement already satisfied: pydantic-core==2.23.4 in /opt/conda/lib/python3.10/site-packages (from pydantic<3->google-cloud-aiplatform) (2.23.4)\n",
      "Requirement already satisfied: typing-extensions>=4.6.1 in /opt/conda/lib/python3.10/site-packages (from pydantic<3->google-cloud-aiplatform) (4.12.2)\n",
      "Requirement already satisfied: six>=1.5 in /opt/conda/lib/python3.10/site-packages (from python-dateutil<3.0dev,>=2.7.3->google-cloud-bigquery[pandas]) (1.16.0)\n",
      "Requirement already satisfied: charset-normalizer<4,>=2 in /opt/conda/lib/python3.10/site-packages (from requests<3.0.0dev,>=2.18.0->google-cloud-storage) (3.3.2)\n",
      "Requirement already satisfied: idna<4,>=2.5 in /opt/conda/lib/python3.10/site-packages (from requests<3.0.0dev,>=2.18.0->google-cloud-storage) (3.10)\n",
      "Requirement already satisfied: urllib3<3,>=1.21.1 in /opt/conda/lib/python3.10/site-packages (from requests<3.0.0dev,>=2.18.0->google-cloud-storage) (1.26.20)\n",
      "Requirement already satisfied: certifi>=2017.4.17 in /opt/conda/lib/python3.10/site-packages (from requests<3.0.0dev,>=2.18.0->google-cloud-storage) (2024.8.30)\n",
      "Requirement already satisfied: pyasn1<0.7.0,>=0.4.6 in /opt/conda/lib/python3.10/site-packages (from pyasn1-modules>=0.2.1->google-auth<3.0.0dev,>=2.14.1->google-cloud-aiplatform) (0.6.1)\n",
      "Downloading google_cloud_aiplatform-1.71.0-py2.py3-none-any.whl (6.2 MB)\n",
      "\u001b[2K   \u001b[90m━━━━━━━━━━━━━━━━━━━━━━━━━━━━━━━━━━━━━━━━\u001b[0m \u001b[32m6.2/6.2 MB\u001b[0m \u001b[31m85.3 MB/s\u001b[0m eta \u001b[36m0:00:00\u001b[0m\n",
      "\u001b[?25hDownloading google_cloud_storage-2.18.2-py2.py3-none-any.whl (130 kB)\n",
      "Downloading google_api_core-2.22.0-py3-none-any.whl (156 kB)\n",
      "Downloading google_cloud_bigquery-3.26.0-py2.py3-none-any.whl (239 kB)\n",
      "Installing collected packages: google-api-core, google-cloud-storage, google-cloud-bigquery, google-cloud-aiplatform\n",
      "\u001b[33m  WARNING: The script tb-gcp-uploader is installed in '/home/jupyter/.local/bin' which is not on PATH.\n",
      "  Consider adding this directory to PATH or, if you prefer to suppress this warning, use --no-warn-script-location.\u001b[0m\u001b[33m\n",
      "\u001b[0m\u001b[31mERROR: pip's dependency resolver does not currently take into account all the packages that are installed. This behaviour is the source of the following dependency conflicts.\n",
      "google-api-python-client 1.8.0 requires google-api-core<2dev,>=1.13.0, but you have google-api-core 2.22.0 which is incompatible.\u001b[0m\u001b[31m\n",
      "\u001b[0mSuccessfully installed google-api-core-2.22.0 google-cloud-aiplatform-1.71.0 google-cloud-bigquery-3.26.0 google-cloud-storage-2.18.2\n",
      "Note: you may need to restart the kernel to use updated packages.\n"
     ]
    }
   ],
   "source": [
    "%pip install --upgrade --user google-cloud-aiplatform google-cloud-storage 'google-cloud-bigquery[pandas]'"
   ]
  },
  {
   "cell_type": "markdown",
   "metadata": {
    "id": "R5Xep4W9lq-Z"
   },
   "source": [
    "### Restart current runtime\n",
    "\n",
    "To use the newly installed packages in this Jupyter runtime, you must restart the runtime. You can do this by running the cell below, which will restart the current kernel."
   ]
  },
  {
   "cell_type": "code",
   "execution_count": 2,
   "metadata": {
    "id": "XRvKdaPDTznN",
    "tags": []
   },
   "outputs": [
    {
     "data": {
      "text/plain": [
       "{'status': 'ok', 'restart': True}"
      ]
     },
     "execution_count": 2,
     "metadata": {},
     "output_type": "execute_result"
    }
   ],
   "source": [
    "# Restart kernel after installs so that your environment can access the new packages\n",
    "import IPython\n",
    "\n",
    "app = IPython.Application.instance()\n",
    "app.kernel.do_shutdown(True)"
   ]
  },
  {
   "cell_type": "markdown",
   "metadata": {
    "id": "SbmM4z7FOBpM"
   },
   "source": [
    "<div class=\"alert alert-block alert-warning\">\n",
    "<b>⚠️ The kernel is going to restart. Please wait until it is finished before continuing to the next step. ⚠️</b>\n",
    "</div>\n"
   ]
  },
  {
   "cell_type": "markdown",
   "metadata": {
    "id": "nCoTvkOJoh76"
   },
   "source": [
    "### Environment variables\n",
    "\n",
    "Sets environment variables. If asked, please replace the following `[your-project-id]` with your project ID and run it."
   ]
  },
  {
   "cell_type": "code",
   "execution_count": 2,
   "metadata": {
    "id": "fkmvFRrj3nQI",
    "tags": []
   },
   "outputs": [],
   "source": [
    "# get project ID\n",
    "PROJECT_ID = ! gcloud config get project\n",
    "PROJECT_ID = PROJECT_ID[0]\n",
    "LOCATION = \"us-central1\"\n",
    "if PROJECT_ID == \"(qwiklabs-gcp-04-81cdda86ac7f)\":\n",
    "    print(f\"Please set the project ID manually below\")"
   ]
  },
  {
   "cell_type": "code",
   "execution_count": 3,
   "metadata": {
    "id": "69XJ95rNoYG9",
    "tags": []
   },
   "outputs": [],
   "source": [
    "# define project information\n",
    "if PROJECT_ID == \"(qwiklabs-gcp-04-81cdda86ac7f)\":\n",
    "    PROJECT_ID = \"[your-project-id]\"  # @param {type:\"string\"}\n",
    "\n",
    "# generate an unique id for this session\n",
    "from datetime import datetime\n",
    "\n",
    "UID = datetime.now().strftime(\"%m%d%H%M\")"
   ]
  },
  {
   "cell_type": "markdown",
   "metadata": {
    "id": "ph7mDSMRVTIZ"
   },
   "source": [
    "### Authentication (Colab only)\n",
    "\n",
    "If you are running this notebook on Colab, you will need to run the following cell authentication. This step is not required if you are using Vertex AI Workbench as it is pre-authenticated."
   ]
  },
  {
   "cell_type": "code",
   "execution_count": 4,
   "metadata": {
    "id": "5jQkFtlimNXR",
    "tags": []
   },
   "outputs": [],
   "source": [
    "import sys\n",
    "\n",
    "# if it's Colab runtime, authenticate the user with Google Cloud\n",
    "if \"google.colab\" in sys.modules:\n",
    "    from google.colab import auth\n",
    "\n",
    "    auth.authenticate_user()"
   ]
  },
  {
   "cell_type": "markdown",
   "metadata": {
    "id": "jUPbl4IFLmC2"
   },
   "source": [
    "### Enable APIs\n",
    "\n",
    "Run the following to enable APIs for Compute Engine, Vertex AI, Cloud Storage and BigQuery with this Google Cloud project."
   ]
  },
  {
   "cell_type": "code",
   "execution_count": 5,
   "metadata": {
    "id": "qGf0qMMQNond",
    "tags": []
   },
   "outputs": [
    {
     "name": "stdout",
     "output_type": "stream",
     "text": [
      "Operation \"operations/acat.p2-964288758604-1e99697b-1091-44dc-bd8b-56a64ac703d2\" finished successfully.\n"
     ]
    }
   ],
   "source": [
    "! gcloud services enable compute.googleapis.com aiplatform.googleapis.com storage.googleapis.com bigquery.googleapis.com --project {PROJECT_ID}"
   ]
  },
  {
   "cell_type": "markdown",
   "metadata": {
    "id": "8cF8rkN3Lnhq"
   },
   "source": [
    "### Set IAM permissions\n",
    "\n",
    "Also, we need to add access permissions to the default service account for using those services.\n",
    "\n",
    "- Go to [the IAM page](https://console.cloud.google.com/iam-admin/) in the Console\n",
    "- Look for the principal for default compute service account. It should look like: `<project-number>-compute@developer.gserviceaccount.com`\n",
    "- Click the edit button at right and click `ADD ANOTHER ROLE` to add `Vertex AI User`, `BigQuery User` and `Storage Admin` to the account.\n",
    "\n",
    "This will look like this:\n",
    "\n",
    "![](https://storage.googleapis.com/github-repo/img/embeddings/vs-quickstart/iam-setting.png)"
   ]
  },
  {
   "cell_type": "markdown",
   "metadata": {
    "id": "mahCxLXHMIls"
   },
   "source": [
    "## Getting Started with Vertex AI Embeddings for Text\n",
    "\n",
    "Now it's ready to get started with embeddings!"
   ]
  },
  {
   "cell_type": "markdown",
   "metadata": {
    "id": "rq07_-o0VoZD"
   },
   "source": [
    "### Data Preparation\n",
    "\n",
    "We will be using [the Stack Overflow public dataset](https://console.cloud.google.com/marketplace/product/stack-exchange/stack-overflow) hosted on BigQuery table `bigquery-public-data.stackoverflow.posts_questions`. This is a very big dataset with 23 million rows that doesn't fit into the memory. We are going to limit it to 1000 rows for this tutorial."
   ]
  },
  {
   "cell_type": "code",
   "execution_count": 6,
   "metadata": {
    "id": "snrzPsEQDH4S",
    "tags": []
   },
   "outputs": [
    {
     "data": {
      "text/html": [
       "<div>\n",
       "<style scoped>\n",
       "    .dataframe tbody tr th:only-of-type {\n",
       "        vertical-align: middle;\n",
       "    }\n",
       "\n",
       "    .dataframe tbody tr th {\n",
       "        vertical-align: top;\n",
       "    }\n",
       "\n",
       "    .dataframe thead th {\n",
       "        text-align: right;\n",
       "    }\n",
       "</style>\n",
       "<table border=\"1\" class=\"dataframe\">\n",
       "  <thead>\n",
       "    <tr style=\"text-align: right;\">\n",
       "      <th></th>\n",
       "      <th>id</th>\n",
       "      <th>title</th>\n",
       "    </tr>\n",
       "  </thead>\n",
       "  <tbody>\n",
       "    <tr>\n",
       "      <th>0</th>\n",
       "      <td>64360615</td>\n",
       "      <td>Why is the hatch not showing?</td>\n",
       "    </tr>\n",
       "    <tr>\n",
       "      <th>1</th>\n",
       "      <td>64363095</td>\n",
       "      <td>How to make div elements appear inline with a ...</td>\n",
       "    </tr>\n",
       "    <tr>\n",
       "      <th>2</th>\n",
       "      <td>64240586</td>\n",
       "      <td>VBA Excel 365 64-bit Winsock implementation pr...</td>\n",
       "    </tr>\n",
       "    <tr>\n",
       "      <th>3</th>\n",
       "      <td>64483009</td>\n",
       "      <td>How to upload/download file into Oracle Cloud ...</td>\n",
       "    </tr>\n",
       "    <tr>\n",
       "      <th>4</th>\n",
       "      <td>64377894</td>\n",
       "      <td>Difference between explode and explode_outer</td>\n",
       "    </tr>\n",
       "  </tbody>\n",
       "</table>\n",
       "</div>"
      ],
      "text/plain": [
       "         id                                              title\n",
       "0  64360615                      Why is the hatch not showing?\n",
       "1  64363095  How to make div elements appear inline with a ...\n",
       "2  64240586  VBA Excel 365 64-bit Winsock implementation pr...\n",
       "3  64483009  How to upload/download file into Oracle Cloud ...\n",
       "4  64377894       Difference between explode and explode_outer"
      ]
     },
     "execution_count": 6,
     "metadata": {},
     "output_type": "execute_result"
    }
   ],
   "source": [
    "# load the BQ Table into a Pandas DataFrame\n",
    "from google.cloud import bigquery\n",
    "\n",
    "QUESTIONS_SIZE = 1000\n",
    "\n",
    "bq_client = bigquery.Client(project=PROJECT_ID)\n",
    "QUERY_TEMPLATE = \"\"\"\n",
    "        SELECT distinct q.id, q.title\n",
    "        FROM (SELECT * FROM `bigquery-public-data.stackoverflow.posts_questions`\n",
    "        where Score > 0 ORDER BY View_Count desc) AS q\n",
    "        LIMIT {limit} ;\n",
    "        \"\"\"\n",
    "query = QUERY_TEMPLATE.format(limit=QUESTIONS_SIZE)\n",
    "query_job = bq_client.query(query)\n",
    "rows = query_job.result()\n",
    "df = rows.to_dataframe()\n",
    "\n",
    "# examine the data\n",
    "df.head()"
   ]
  },
  {
   "cell_type": "markdown",
   "metadata": {
    "id": "j6022U1FWzpb"
   },
   "source": [
    "### Call the API to generate embeddings\n",
    "\n",
    "With the Stack Overflow dataset, we will use the `title` column (the question title) and generate embedding for it with Embeddings for Text API. The API is available under the [vertexai](https://cloud.google.com/python/docs/reference/aiplatform/latest/vertexai) package of the SDK.\n",
    "\n",
    "You may see some warning messages from the TensorFlow library but you can ignore them."
   ]
  },
  {
   "cell_type": "code",
   "execution_count": 7,
   "metadata": {
    "id": "pY8M4DqO8wGx",
    "tags": []
   },
   "outputs": [],
   "source": [
    "# init the vertexai package\n",
    "import vertexai\n",
    "\n",
    "vertexai.init(project=PROJECT_ID, location=LOCATION)"
   ]
  },
  {
   "cell_type": "markdown",
   "metadata": {
    "id": "jrG82n-y-EC5"
   },
   "source": [
    "From the package, import [TextEmbeddingModel](https://cloud.google.com/python/docs/reference/aiplatform/latest/vertexai.language_models.TextEmbeddingModel) and get a model."
   ]
  },
  {
   "cell_type": "code",
   "execution_count": 8,
   "metadata": {
    "id": "YVLHjSeOGoTu",
    "tags": []
   },
   "outputs": [],
   "source": [
    "# Load the text embeddings model\n",
    "from vertexai.language_models import TextEmbeddingModel\n",
    "\n",
    "model = TextEmbeddingModel.from_pretrained(\"text-embedding-004\")"
   ]
  },
  {
   "cell_type": "markdown",
   "metadata": {
    "id": "FqdVsgZDb_hc"
   },
   "source": [
    "In this tutorial we will use `text-embedding-004` model for getting text embeddings. Please take a look at [Supported models](https://cloud.google.com/vertex-ai/docs/generative-ai/embeddings/get-text-embeddings#supported_models) on the doc to see the list of supported models.\n",
    "\n",
    "Once you get the model, you can call its [get_embeddings](https://cloud.google.com/python/docs/reference/aiplatform/latest/vertexai.language_models.TextEmbeddingModel#vertexai_language_models_TextEmbeddingModel_get_embeddings) function to get embeddings. You can pass up to 5 texts at once in a call. But there is a caveat. By default, the text embeddings API has a \"request per minute\" quota set to 60 for new Cloud projects and 600 for projects with usage history (see [Quotas and limits](https://cloud.google.com/vertex-ai/docs/quotas#request_quotas) to check the latest quota value for `base_model:textembedding-gecko`). So, rather than using the function directly, you may want to define a wrapper like below to limit under 10 calls per second, and pass 5 texts each time."
   ]
  },
  {
   "cell_type": "code",
   "execution_count": 9,
   "metadata": {
    "id": "8HUb9u_P2VWW",
    "tags": []
   },
   "outputs": [],
   "source": [
    "import time\n",
    "\n",
    "import tqdm  # to show a progress bar\n",
    "\n",
    "# get embeddings for a list of texts\n",
    "BATCH_SIZE = 5\n",
    "\n",
    "\n",
    "def get_embeddings_wrapper(texts):\n",
    "    embs = []\n",
    "    for i in tqdm.tqdm(range(0, len(texts), BATCH_SIZE)):\n",
    "        time.sleep(1)  # to avoid the quota error\n",
    "        result = model.get_embeddings(texts[i : i + BATCH_SIZE])\n",
    "        embs = embs + [e.values for e in result]\n",
    "    return embs"
   ]
  },
  {
   "cell_type": "markdown",
   "metadata": {
    "id": "aK4eTSPfcEuh"
   },
   "source": [
    "The following code will get embedding for the question titles and add them as a new column `embedding` to the DataFrame. This will take a few minutes."
   ]
  },
  {
   "cell_type": "code",
   "execution_count": 10,
   "metadata": {
    "id": "FcqPvu4PluN1",
    "tags": []
   },
   "outputs": [
    {
     "name": "stderr",
     "output_type": "stream",
     "text": [
      "100%|██████████| 200/200 [03:39<00:00,  1.10s/it]\n"
     ]
    },
    {
     "data": {
      "text/html": [
       "<div>\n",
       "<style scoped>\n",
       "    .dataframe tbody tr th:only-of-type {\n",
       "        vertical-align: middle;\n",
       "    }\n",
       "\n",
       "    .dataframe tbody tr th {\n",
       "        vertical-align: top;\n",
       "    }\n",
       "\n",
       "    .dataframe thead th {\n",
       "        text-align: right;\n",
       "    }\n",
       "</style>\n",
       "<table border=\"1\" class=\"dataframe\">\n",
       "  <thead>\n",
       "    <tr style=\"text-align: right;\">\n",
       "      <th></th>\n",
       "      <th>id</th>\n",
       "      <th>title</th>\n",
       "      <th>embedding</th>\n",
       "    </tr>\n",
       "  </thead>\n",
       "  <tbody>\n",
       "    <tr>\n",
       "      <th>0</th>\n",
       "      <td>64360615</td>\n",
       "      <td>Why is the hatch not showing?</td>\n",
       "      <td>[0.010901262052357197, -0.04401577636599541, 0...</td>\n",
       "    </tr>\n",
       "    <tr>\n",
       "      <th>1</th>\n",
       "      <td>64363095</td>\n",
       "      <td>How to make div elements appear inline with a ...</td>\n",
       "      <td>[-0.008530491963028908, -0.02009250596165657, ...</td>\n",
       "    </tr>\n",
       "    <tr>\n",
       "      <th>2</th>\n",
       "      <td>64240586</td>\n",
       "      <td>VBA Excel 365 64-bit Winsock implementation pr...</td>\n",
       "      <td>[0.052003927528858185, -0.006944838911294937, ...</td>\n",
       "    </tr>\n",
       "    <tr>\n",
       "      <th>3</th>\n",
       "      <td>64483009</td>\n",
       "      <td>How to upload/download file into Oracle Cloud ...</td>\n",
       "      <td>[0.03209858387708664, -0.0066914064809679985, ...</td>\n",
       "    </tr>\n",
       "    <tr>\n",
       "      <th>4</th>\n",
       "      <td>64377894</td>\n",
       "      <td>Difference between explode and explode_outer</td>\n",
       "      <td>[0.03387247771024704, -0.0010376269929111004, ...</td>\n",
       "    </tr>\n",
       "  </tbody>\n",
       "</table>\n",
       "</div>"
      ],
      "text/plain": [
       "         id                                              title  \\\n",
       "0  64360615                      Why is the hatch not showing?   \n",
       "1  64363095  How to make div elements appear inline with a ...   \n",
       "2  64240586  VBA Excel 365 64-bit Winsock implementation pr...   \n",
       "3  64483009  How to upload/download file into Oracle Cloud ...   \n",
       "4  64377894       Difference between explode and explode_outer   \n",
       "\n",
       "                                           embedding  \n",
       "0  [0.010901262052357197, -0.04401577636599541, 0...  \n",
       "1  [-0.008530491963028908, -0.02009250596165657, ...  \n",
       "2  [0.052003927528858185, -0.006944838911294937, ...  \n",
       "3  [0.03209858387708664, -0.0066914064809679985, ...  \n",
       "4  [0.03387247771024704, -0.0010376269929111004, ...  "
      ]
     },
     "execution_count": 10,
     "metadata": {},
     "output_type": "execute_result"
    }
   ],
   "source": [
    "# get embeddings for the question titles and add them as \"embedding\" column\n",
    "df = df.assign(embedding=get_embeddings_wrapper(list(df.title)))\n",
    "df.head()"
   ]
  },
  {
   "cell_type": "markdown",
   "metadata": {
    "id": "nB53SiJjVN6e"
   },
   "source": [
    "## Look at the embedding similarities\n",
    "\n",
    "Let's see how these embeddings are organized in the embedding space with their meanings by quickly calculating the similarities between them and sorting them.\n",
    "\n",
    "As embeddings are vectors, you can calculate similarity between two embeddings by using one of the popular metrics like the followings:\n",
    "\n",
    "![](https://storage.googleapis.com/github-repo/img/embeddings/textemb-vs-notebook/8.png)\n",
    "\n",
    "Which metric should we use? Usually it depends on how each model is trained. In case of the model `text-embedding-004`, we need to use inner product (dot product).\n",
    "\n",
    "In the following code, it picks up one question randomly and uses the numpy `np.dot` function to calculate the similarities between the question and other questions."
   ]
  },
  {
   "cell_type": "code",
   "execution_count": 11,
   "metadata": {
    "id": "lKs6jSu7NiM6",
    "tags": []
   },
   "outputs": [
    {
     "data": {
      "text/plain": [
       "array([0.29960096, 0.44501826, 0.34292619, 0.33007156, 0.19472355])"
      ]
     },
     "execution_count": 11,
     "metadata": {},
     "output_type": "execute_result"
    }
   ],
   "source": [
    "import random\n",
    "\n",
    "import numpy as np\n",
    "\n",
    "# pick one of them as a key question\n",
    "key = random.randint(0, len(df))\n",
    "\n",
    "# calc dot product between the key and other questions\n",
    "embs = np.array(df.embedding.to_list())\n",
    "similarities = np.dot(embs[key], embs.T)\n",
    "\n",
    "# print similarities for the first 5 questions\n",
    "similarities[:5]"
   ]
  },
  {
   "cell_type": "markdown",
   "metadata": {
    "id": "srM04lJBQp4w"
   },
   "source": [
    "Finally, sort the questions with the similarities and print the list."
   ]
  },
  {
   "cell_type": "code",
   "execution_count": 12,
   "metadata": {
    "id": "lTUVvj9FQlab",
    "tags": []
   },
   "outputs": [
    {
     "name": "stdout",
     "output_type": "stream",
     "text": [
      "Key question: collectionView doesn't scrollToItem - swift - programmatically\n",
      "\n",
      "1.0000 collectionView doesn't scrollToItem - swift - programmatically\n",
      "0.6815 Unable to simultaneously satisfy constraints. Adaptive cell height using UICollectionViewFlowLayout\n",
      "0.6651 UICollectionView does not respond to drag/swipe in Catalyst\n",
      "0.6615 UICollectionView zoom entire grid\n",
      "0.6250 SwiftUI XCTestCase - Cell never become hittable\n",
      "0.6001 UIViewRepresentable not working in a modally presented SwiftUI View\n",
      "0.5997 SwiftUI + UIView touch events collision\n",
      "0.5990 SwiftUI: padding above my view, for no reason?\n",
      "0.5975 The searchController doesn't appear in the navigationItem after reloading the ViewController (Swift 5)\n",
      "0.5940 SwiftUI WidgetKit: How to anchor views to the top\n",
      "0.5916 SwiftUI How to vertically center a view inside a VStack\n",
      "0.5880 How to make React Native tabview scroll back to the top of a tab when changing the active index\n",
      "0.5834 Issue getting count of records in JSON array using Alamofire | Swift 5\n",
      "0.5734 Firebase Analytics - logging screen_view not working in SwiftUI\n",
      "0.5721 tableView:numberOfRowsInSection: unrecognized selector sent to instance error\n",
      "0.5539 SwiftUI picker with a button in the navbar\n",
      "0.5510 SwiftUI: Why is the height of proxy.safeAreaInsets.bottom equal to keyboardHeight?\n",
      "0.5407 Testing for UINavigationController deallocation is failing?\n",
      "0.5363 Concatenate multiple arrays from data model in Swift\n",
      "0.5208 SwiftUI: Saving MapKit Annotation Data to Pass To Another View\n"
     ]
    }
   ],
   "source": [
    "# print the question\n",
    "print(f\"Key question: {df.title[key]}\\n\")\n",
    "\n",
    "# sort and print the questions by similarities\n",
    "sorted_questions = sorted(\n",
    "    zip(df.title, similarities), key=lambda x: x[1], reverse=True\n",
    ")[:20]\n",
    "for i, (question, similarity) in enumerate(sorted_questions):\n",
    "    print(f\"{similarity:.4f} {question}\")"
   ]
  },
  {
   "cell_type": "markdown",
   "metadata": {
    "id": "S75SQzAg1wHV"
   },
   "source": [
    "# Find embeddings fast with Vertex AI Vector Search\n",
    "\n",
    "As we have explained above, you can find similar embeddings by calculating the distance or similarity between the embeddings.\n",
    "\n",
    "But this isn't easy when you have millions or billions of embeddings. For example, if you have 1 million embeddings with 768 dimensions, you need to repeat the distance calculations for 1 million x 768 times. This would take some seconds - too slow."
   ]
  },
  {
   "cell_type": "markdown",
   "metadata": {
    "id": "0sjhTy-a47YH"
   },
   "source": [
    "So the researchers have been studying a technique called [Approximate Nearest Neighbor (ANN)](https://en.wikipedia.org/wiki/Nearest_neighbor_search) for faster search. ANN uses \"vector quantization\" for separating the space into multiple spaces with a tree structure. This is similar to the index in relational databases for improving the query performance, enabling very fast and scalable search with billions of embeddings.\n",
    "\n",
    "With the rise of LLMs, the ANN is getting popular quite rapidly, known as the Vector Search technology.\n",
    "\n",
    "![](https://storage.googleapis.com/gweb-cloudblog-publish/images/7._ANN.1143068821171228.max-2200x2200.png)\n",
    "\n",
    "In 2020, Google Research published a new ANN algorithm called [ScaNN](https://ai.googleblog.com/2020/07/announcing-scann-efficient-vector.html). It is considered one of the best ANN algorithms in the industry, also the most important foundation for search and recommendation in major Google services such as Google Search, YouTube and many others.\n"
   ]
  },
  {
   "cell_type": "markdown",
   "metadata": {
    "id": "xVOL8BgM2isz"
   },
   "source": [
    "## What is Vertex AI Vector Search?\n",
    "\n",
    "Google Cloud developers can take the full advantage of Google's vector search technology with [Vertex AI Vector Search](https://cloud.google.com/vertex-ai/docs/vector-search/overview) (previously called Matching Engine). With this fully managed service, developers can just add the embeddings to its index and issue a search query with a key embedding for the blazingly fast vector search. In the case of the Stack Overflow demo, Vector Search can find relevant questions from 8 million embeddings in tens of milliseconds.\n",
    "\n",
    "![](https://storage.googleapis.com/github-repo/img/embeddings/textemb-vs-notebook/9.png)\n",
    "\n",
    "With Vector Search, you don't need to spend much time and money building your own vector search service from scratch or using open source tools if your goal is high scalability, availability and maintainability for production systems."
   ]
  },
  {
   "cell_type": "markdown",
   "metadata": {
    "id": "uBt8tjidSzyU"
   },
   "source": [
    "## Get Started with Vector Search\n",
    "\n",
    "When you already have the embeddings, then getting started with Vector Search is pretty easy. In this section, we will follow the steps below.\n",
    "\n",
    "### Setting up Vector Search\n",
    "- Save the embeddings in JSON files on Cloud Storage\n",
    "- Build an Index\n",
    "- Create an Index Endpoint\n",
    "- Deploy the Index to the endpoint\n",
    "\n",
    "### Use Vector Search\n",
    "\n",
    "- Query with the endpoint\n",
    "\n",
    "### **Tip for Colab users**\n",
    "\n",
    "If you use Colab for this tutorial, you may lose your runtime while you are waiting for the Index building and deployment in the later sections as it takes tens of minutes. In that case, run the following sections again with the new instance to recover the runtime: [Install Python SDK, Environment variables and Authentication](https://colab.research.google.com/drive/1xJhLFEyPqW0qvKiERD6aYgeTHa6_U50N?resourcekey=0-2qUkxckCjt6W03AsqvZHhw#scrollTo=AtXnXhF8U-8R&line=9&uniqifier=1).\n",
    "\n",
    "Then, use the [Utilities](https://colab.research.google.com/drive/1xJhLFEyPqW0qvKiERD6aYgeTHa6_U50N?resourcekey=0-2qUkxckCjt6W03AsqvZHhw#scrollTo=BE1tELsH-u8N&line=1&uniqifier=1) to recover the Index and Index Endpoint and continute with the rest."
   ]
  },
  {
   "cell_type": "markdown",
   "metadata": {
    "id": "6pu1a3zjfQ0D"
   },
   "source": [
    "### Save the embeddings in a JSON file\n",
    "To load the embeddings to Vector Search, we need to save them in JSON files with JSONL format. See more information in the docs at [Input data format and structure](https://cloud.google.com/vertex-ai/docs/matching-engine/match-eng-setup/format-structure#data-file-formats).\n",
    "\n",
    "First, export the `id` and `embedding` columns from the DataFrame in JSONL format, and save it."
   ]
  },
  {
   "cell_type": "code",
   "execution_count": 13,
   "metadata": {
    "id": "GzZ30d4j_uLU",
    "tags": []
   },
   "outputs": [
    {
     "name": "stdout",
     "output_type": "stream",
     "text": [
      "{\"id\":64360615,\"embedding\":[0.0109012621,-0.0440157764,0.013822617,0.0096873445,0.046493683,0.0015368336,0.0819792226,-0.0135673713,-0.0373895355,0.0532298833,-0.0531148762,0.0353179611,0.0502081998,-0.0046180212,-0.0639661551,-0.0750781372,0.030307129,0.0026309255,-0.0160026923,0.0635548979,0.0096477708,-0.0152410977,-0.0242757425,-0.0420263074,-0.0158592742,-0.014437831,0.0178432055,0.0233293977,-0.0712002963,0.0294662938,0.0624627471,0.0456711203,-0.007663466,-0.0026892107,0.0140492767,-0.0131975254,0.0088782068,0.0192434192,0.0222441908,0.0363239013,-0.0205151532,0.0785943121,-0.0210317541,0.0354855582,-0.023866294,0.0184702594,0.0148856742,0.0551857613,0.0588344634,0.0043921703,0.0614639446,0.0396681279,-0.0588206239,-0.003495516,-0.0644857436,0.0010660288,-0.0454700366,-0.0568855256,0.0268593282,-0.0521158203,-0.0562892668,0.0204636585,0.0501129664,0.0422501527,0.0014550117,-0.0398802347,0.0261047874,0.0159056187,-0.0350210816,0.0044964156,0.0108027793,0.0257260464,0.0034807576,-0.0086288536,-0.0323065147,-0.0285042264,0.0620551482,0.0044006738,-0.0228494257,0.0316808671,-0.0484316722,0.0132973203,-0.0269887839,-0.0081581436,0.0698637292,-0.0235729311,0.0153967924,0.0287062488,-0.0512544103,0.0113501977,0.0416735522,0.0186604057,0.0184966233,-0.0050817435,0.1296522021,0.0090710437,-0.0788102821,-0.0005659942,0.0361682586,0.0391937792,-0.0155781377,-0.0008816418,0.0590315238,-0.0518788621,-0.009153924,-0.040556971,-0.1057288796,0.0373830982,-0.0296213962,0.0321986564,0.0079106456,-0.0277040377,-0.0513364933,0.0272755697,-0.0189312715,-0.0144429179,0.0610414036,0.0779002607,-0.0157330446,-0.0521240644,-0.0160881393,0.0404822975,0.0467288829,0.0625693351,0.0009937335,0.0247361977,-0.0451558419,-0.0284014996,-0.0203156024,-0.0185587388,-0.0303581338,-0.010249285,0.0024108766,-0.0113689061,-0.0148188146,-0.0230265409,-0.0310085658,-0.0292267147,0.0492670871,0.0271614064,-0.003029793,-0.0283031203,-0.0593891665,-0.0077465293,-0.0215633623,0.0629873872,-0.0045363409,0.0004689624,-0.0161750335,0.0309943575,-0.0249607358,-0.0022673642,-0.0204982068,0.0148994178,0.001712046,-0.053703852,0.0273694843,-0.0611609034,0.0599062331,0.0066760359,0.0237510726,-0.0131229097,-0.0358805172,-0.0181630924,-0.0265297852,0.026361512,-0.0630455017,-0.005329669,0.0391605459,-0.0796101168,-0.0500716083,-0.0456265807,-0.034768939,-0.0214855671,-0.0298406817,0.0117626227,0.0041866144,-0.0182912871,-0.037341971,0.0170559958,0.0577478707,0.0086924061,-0.0133072408,0.0036167416,-0.0070240903,0.0368746221,0.0002187194,0.0209358353,0.0429380834,0.0527478158,-0.0445426591,0.0235957094,0.046818953,-0.0058671893,-0.0355043449,0.03525066,-0.0058525815,-0.0121534485,-0.0441161655,0.0050978907,0.0410106368,0.0256902203,0.0031629307,-0.0371740423,-0.0362047032,-0.0586753115,0.0190105382,-0.0843836218,-0.0570964925,0.0168375131,0.0114567671,-0.0084435223,-0.0614293218,-0.0512551405,-0.0348417014,0.021738315,0.0027855143,0.0391866192,0.0400220938,-0.0589058399,0.0197846666,-0.0247142073,0.068972975,0.0396563634,0.0332450457,0.0202942155,-0.0749272034,-0.0045016715,-0.0108796265,-0.001130567,-0.0235683303,-0.0223119967,0.008942659,0.0395674817,-0.0455462001,0.037784975,0.0586883202,-0.0404409394,0.0604501814,0.0007692463,-0.021249868,-0.0054535135,0.0253944229,0.0295162797,0.0484419353,-0.046058137,0.0383924656,0.0880131647,-0.0216388125,-0.0116370954,0.0112976432,-0.0342389457,-0.0582023934,-0.0037562603,-0.0283518489,-0.0206946321,0.0082328338,0.0242549181,-0.000390701,0.0332720838,0.0615512244,0.0196849331,0.0150886495,0.0076588141,-0.0591169335,-0.0525686294,-0.0088205915,-0.0038599242,0.0192986988,0.0121655241,-0.0195599347,0.0286415629,-0.028341623,-0.0366683155,-0.0463288128,0.0291202143,-0.0302919541,-0.0280067064,-0.0692768395,-0.0985301808,0.000382214,-0.0255161151,0.0470523722,0.0730845258,0.0434558913,-0.090172939,0.0081510525,0.0486740805,0.0188026782,-0.0275748763,0.0542158894,0.0578196086,0.040038038,0.0233633984,0.0237485711,0.0258332528,-0.0091480333,0.0451379046,0.0452788584,-0.0253326967,0.0123769008,0.0772513077,-0.0388852581,-0.0296155624,-0.0040268931,0.0108245844,0.0076728645,-0.046918422,-0.0050261975,-0.0556124896,-0.0278040264,0.0079744104,-0.0329664126,-0.00896814,0.0041567786,0.0244033746,-0.1258897632,0.0015682643,-0.0112923635,0.0100259297,0.012075522,-0.0075523984,-0.0274243131,0.0237475652,0.0110516185,0.0158609897,0.0058262236,0.0250164662,-0.0158104505,0.0138644883,0.0463369302,-0.0277094357,-0.0328153819,-0.04135786,-0.0264432617,0.0103213238,-0.0832616761,-0.0017347235,0.0277435426,0.0610908195,0.0575388968,0.0519325063,0.0591600537,0.0480516218,-0.0290970169,-0.0393205211,0.0186288282,-0.0345794931,-0.0330256931,-0.0188742876,0.0247647967,0.0372770652,0.0395882353,-0.0217389222,-0.0349792726,0.0108326962,0.0214905329,-0.0060093543,-0.0101985559,-0.0357034951,-0.0339003876,0.0158736128,0.0394412465,0.0691174567,0.0379267484,0.0061568613,0.0423115008,0.0131051913,-0.0292228479,-0.0110333236,0.0195234809,-0.0326019302,0.0056450446,0.0206287727,-0.0045971936,-0.0180018861,-0.0640353188,-0.0055379886,0.0395684913,-0.0410854444,0.0252057817,0.0129293073,0.0080503859,0.0102322893,0.0223520882,0.0447911806,-0.0746505857,-0.0280795526,0.0341164023,-0.0051665534,-0.0152469855,0.0274890065,-0.0241448935,0.0337261222,-0.013599907,0.0154520608,-0.0733646378,0.0015985644,0.0213190988,0.0216414593,-0.064513877,-0.0194700174,0.0686394274,-0.03560533,-0.0146152619,-0.0213926714,-0.0209562685,0.0268722456,-0.0020775464,0.006145305,0.0267899372,0.0277950168,-0.0184404831,0.0166534148,-0.0563806891,-0.0612550229,0.0074239969,-0.0168205891,0.0171732623,-0.0159759149,0.0508301407,-0.034262538,0.0284637082,-0.0271856915,-0.0298158452,-0.0406229571,-0.0124906143,0.0081607345,-0.0575896949,0.0269678943,-0.0148428958,0.1023114994,-0.0643691197,0.0114664612,0.0344140492,0.0110601149,0.0056353989,-0.0243120771,0.0177198797,0.0124434028,-0.0079611531,0.0156991761,0.0723486319,0.0199147034,0.0114198383,0.0117379688,-0.019749755,-0.0241326541,-0.0092675481,-0.0240687653,-0.0095736543,0.0229728557,0.0091188662,-0.0672689453,-0.0696423128,-0.0164034367,-0.0324341692,0.0418368988,0.0070222253,-0.0210919231,-0.0477687977,0.0201925207,0.0488863327,0.0088470997,0.0550992042,-0.0549372919,0.0750601217,0.001869551,0.0863122419,-0.0039466978,-0.0068392479,-0.0322052091,0.0470021367,0.0119213313,-0.0134768169,-0.0403630324,0.0710370094,0.0275459774,-0.0597880706,0.003357253,0.0311473496,0.0081457738,-0.0279804915,-0.0178740546,-0.0026486607,-0.0019994401,-0.0567685105,0.0118501103,-0.0262575354,0.0631151721,0.0275910832,0.0341654755,0.005770985,0.0117099518,-0.0153323142,0.0574140809,0.0677053258,-0.0137536488,-0.0038236626,-0.0195736159,0.0219474193,0.0288377851,-0.0061867679,-0.0231514499,0.0102639524,-0.0133571867,0.0109353764,-0.0059577455,0.0079134302,0.0117916595,-0.0059652203,-0.0521929562,-0.0545931682,-0.0453043804,0.0274050012,-0.0166150164,-0.0510234945,-0.0102854501,-0.0136437723,0.0680627748,-0.0433046892,0.0117771029,-0.0142792398,-0.0613209382,-0.0403166749,-0.0491404794,0.0595466979,-0.0171331726,-0.0209768917,0.0229915064,-0.0480759516,0.0166875198,0.0293282773,0.0345381275,0.0071982569,0.0684479177,0.0494599342,0.003639457,-0.0255712718,-0.00217318,-0.0003718867,-0.0024462088,0.0008758256,0.0253397767,0.0406820476,0.0379708707,-0.0145538645,-0.0436051674,-0.0478964932,0.0342991166,-0.0453214385,-0.0476544984,0.0045189653,-0.043818254,0.0227395706,-0.0041457904,-0.0053960527,-0.0333867483,0.0366387665,0.0434270576,0.0002004495,0.0101397876,-0.0534494109,-0.0017058358,0.0143938279,-0.0278688148,0.0266573261,0.0584497973,-0.0025302735,-0.0252076499,-0.0319054723,-0.0156600885,0.0139005957,0.0484882854,0.0143959569,0.0331807435,-0.0766526684,-0.0312324073,0.0325195491,-0.023888953,0.0302584786,0.056768883,0.0042122677,-0.0508025847,-0.0340634398,0.017147582,0.0454711057,-0.0788164809,-0.0011752965,0.0446199402,-0.0228288509,0.0404768065,-0.0437150747,0.0031281624,0.0271387119,-0.0103109805,-0.0560109802,0.023110481,-0.0101246452,-0.0375596061,-0.0304780584,0.0013523328,0.0667403266,-0.0017634736,-0.0391786173,-0.0064340807,0.0346983261,-0.0473105386,0.0229560696,0.0408449732,-0.0487953424,-0.0073374156,-0.0554526225,0.0281924568,-0.0287483372,0.0115932878,-0.046992179,-0.0408663452,-0.0055973344,0.0181886815,-0.0723316595,0.0105248075,0.0020947631,0.0049703885,-0.0143452166,0.0019186643,-0.0263574664,0.0171910934,0.0473089218,-0.0060367691,-0.0213290397,-0.0444506146,0.0483255312,-0.0658388138,-0.0412156917,-0.0077018058,-0.0203178469,-0.006575299,-0.0135103893,-0.0473196805,-0.0187401138,-0.0127661331,-0.0112831732,-0.0195593238,-0.0414339714,-0.0261447411,0.0403628573,0.0388047546,-0.0056166663,0.0218082219,-0.0127080036,0.0178256147,0.0081336843,0.0566512458,-0.0287426747,-0.0142597938,-0.0526227504,-0.0533370711,-0.0080509465,0.0147734629,0.0102772843,-0.0110211205,-0.0143447295,-0.0200715885,0.0438434035,-0.0154387373,0.038015008,0.0325629935,-0.0151973888,0.0066445135,-0.0426747985,0.0197837204,-0.0105380658,0.0186493117,0.0071563716,-0.0425315611,0.0608971603,0.0280699935,-0.0338581055,0.0235943794,-0.0179075338,0.0592462197,0.0163128469,0.0120986644,-0.0414734595,0.0044043739,0.0278430041,0.0215106681,-0.0428630225,0.0227012224,0.0186625216,0.0172150731,-0.0590634346,-0.0049607442,-0.0756928921,0.0649885759,-0.0288440771,0.045189932,-0.0306568947,-0.0252231508,0.0188672468,-0.0086790733,-0.0078331111,0.0047381907,0.0586090051,-0.0241176412,0.0428059623,0.0156549141,-0.0046412684,0.0245042481,-0.0424997285,0.024189448,0.0417415686,0.0270949397,0.0447377115,0.0424359478,0.0905828774,-0.0060192472,0.0027078104,0.0310852714,0.0164433401,-0.0681228191,-0.0033171787,0.0214894731,0.0093346648,-0.0501106046,0.0091505079,-0.0285949036,0.0129885282,0.0293527581,0.0564097166,-0.0078667188,0.0064418577,0.0134017579,0.0006705429,0.0308339242,0.0254279207,-0.0026007527,0.0074978182,0.0076695923,0.0423874147,-0.0132067436,-0.0473131239,0.0032560949,0.0094612809,-0.0432839058,0.0173856914,-0.0511152074,-0.0127139492,-0.0130139804,-0.0760786459,0.0035902245,-0.048520565,-0.0585489124,0.0257864185,-0.0627961233,0.0370073989,0.0363676473,0.028829094,-0.0093545755,0.0389009118,0.0792530775,-0.0204730779,0.0185002238,-0.034421064,0.0318122432,-0.0034843981,-0.0333340392]}\n",
      "{\"id\":64363095,\"embedding\":[-0.008530492,-0.020092506,-0.0566017479,0.0254845992,0.0557481162,-0.0158695839,0.0156112416,0.0224438719,0.0326260887,0.0006156902,-0.0087413974,0.0926708952,0.0485263839,-0.0080864476,-0.0313536488,-0.0009159223,0.0362918079,-0.0022167396,-0.0423373356,0.0291297026,-0.0136413518,0.0222411975,-0.0270564817,-0.0173439346,-0.0343071967,0.0184914116,0.0372289307,0.0137704676,-0.056596905,0.0504418239,0.0813532621,0.0409280397,-0.0083019352,0.0234568454,0.0256986655,0.0387210026,-0.0676898658,-0.0038173106,0.0232052505,0.0231534559,-0.0207607765,-0.0654013753,0.0070598517,0.0351346023,0.0191435553,-0.0105610443,0.032746166,0.0354134478,-0.0175174139,-0.0062671397,0.0887188539,0.0220307484,0.0317109898,0.0067110383,-0.0571584851,0.0371269584,-0.0105623575,0.0375024974,0.0055909627,-0.0186702609,-0.0408513546,-0.0552466065,-0.0419019349,-0.0397062115,0.0076451371,0.0110902693,-0.0254498944,-0.007828461,-0.0808312297,0.0273521841,-0.0206199512,0.0192207117,-0.0352278799,-0.0186591409,-0.052150093,0.0413856059,0.0219859164,0.0035673294,0.0164818857,0.044392664,0.0269796997,0.0106844613,0.1039650664,-0.0294401422,0.0058289575,-0.0519433394,-0.0354251191,0.0512685589,-0.0272981934,-0.0612133406,0.0688984096,0.0312216356,-0.0200384352,-0.0044458518,0.1038639322,0.0246687979,-0.0281804409,-0.0315527767,0.0649765655,0.0357320718,-0.0404472314,0.0186319239,-0.0116230687,-0.1019568369,0.0255102981,-0.0253365487,-0.0413564034,0.0275838971,-0.0288412813,0.0197844431,0.0312272534,0.0209394693,0.0129810143,-0.0029139693,-0.0130191511,0.0619936325,0.0058146319,-0.0140507771,-0.0174805783,-0.0188432038,0.0139318341,0.0445642285,0.0248860661,0.1162335128,0.0837386176,0.009326457,0.060427472,-0.0371863991,-0.0095105087,-0.0538410321,0.0627292618,-0.0276475977,0.0001624171,0.003774222,-0.0108530037,-0.0210891645,0.0284431912,0.0592542924,0.0567843877,0.0258705392,0.0117133735,-0.0156859048,-0.0289596431,0.0053966888,-0.0004835919,-0.0903436169,-0.0251753591,-0.0195767302,0.0136012668,0.0239767935,-0.0606292635,-0.0046437294,0.0102138845,0.0107815145,-0.0044468842,0.0117571214,0.0478473902,-0.0205793865,0.0391149409,0.009190036,0.036471922,-0.0758611485,-0.0372424014,-0.0244097356,-0.0268562902,-0.0194811691,0.0317274071,0.0084917424,0.00384504,0.0074772653,0.0068089063,-0.1134531498,-0.032391578,0.0317297205,0.0025484413,0.0476181209,-0.0102099767,0.0084179379,0.0137362769,-0.0003228041,0.0357011557,0.0845945552,-0.0221147612,-0.0174009129,0.0512034409,0.0084723178,-0.0703436211,-0.0105591537,0.0377233401,0.0136615122,-0.031016266,0.0079920329,0.0116504664,0.0324033499,0.0007208696,0.0232431553,0.0244514961,0.007995815,0.0098417178,0.026447352,0.0530907363,-0.0984292552,-0.0074538607,0.0048568915,-0.020308923,-0.0125353169,-0.0162666552,-0.0151251862,-0.0098294849,0.0204460006,0.0387670919,0.0068268185,-0.0215775762,-0.0050757607,0.0130312508,-0.0206214767,0.0912038013,0.0204144884,-0.0061167493,-0.0303288195,-0.0036921105,0.0207538381,0.0504055619,-0.027940752,0.0260456782,-0.0157108661,-0.0078024678,0.0185708441,-0.0163670424,-0.033053074,-0.0106887836,0.0587738082,-0.0595455915,0.0395126306,-0.0367557667,0.0561111532,0.023940403,-0.0512166284,0.0330818295,0.0319473334,-0.0424973704,0.0323695615,0.0069023557,0.012841437,0.0131147988,-0.0823607147,-0.0050621708,-0.0127183497,-0.0301627014,0.0007176065,-0.0028625848,-0.0422624461,-0.0029740264,0.0293332338,-0.020578729,0.0743538067,0.0142845893,0.0160731617,-0.0027985037,-0.0022731822,0.0088612651,-0.0411122702,0.004515301,0.0232144799,0.0255901497,-0.0818516016,-0.0049499362,0.0283033065,-0.0253722444,0.005864305,-0.0093991449,0.0247236211,-0.0564655922,-0.0435256362,0.0098678973,-0.0247545037,-0.0199932177,-0.0279900264,-0.0257513281,-0.0446237251,0.0234535914,0.0351883098,0.0661900714,-0.0302081518,0.0085078347,-0.054287076,-0.0246845819,0.0076633617,0.0065308004,0.0013392993,-0.0392353386,-0.0069931545,0.0266935509,-0.0410409085,-0.0308736134,-0.0071488065,0.0338046923,0.0800020024,0.035262499,-0.0511429533,0.0106479274,0.0013647361,-0.0253787078,0.091207996,-0.0271821562,0.045859132,-0.0030357642,0.0308076758,-0.0235876087,-0.0615647584,0.0107621811,-0.0624101423,-0.023348717,0.0501872413,0.0093229851,-0.014930102,-0.1646503657,-0.0380365066,-0.0199150555,0.042146083,-0.0206569377,0.01504,-0.0425309017,0.0463291295,0.0611141585,-0.02627635,-0.0227307659,0.0038073156,-0.0087505002,0.0102516776,0.0515548848,-0.0483002998,-0.0266982839,-0.037722744,-0.0311423372,-0.0482064746,-0.0101626646,-0.027660029,0.0008155346,0.0326953791,0.073895134,0.0344435349,0.0199451111,0.0024728719,-0.031563703,-0.0149606634,-0.0177570041,0.0747780129,0.0001355359,0.0324347056,0.047648631,0.0270129889,-0.0336131826,-0.0070851073,-0.0102628451,0.0154766664,-0.0010527357,-0.0218146089,0.0465840474,-0.0005419367,0.0350456163,0.0141310114,0.0407094471,0.026132049,0.0157037955,-0.0119186342,0.0225764457,0.0240088813,-0.0168978609,-0.0351604559,-0.0795546323,0.0105757182,-0.0294765681,0.0405082144,-0.0126274051,0.0405347869,-0.0479059406,0.0217461884,0.0458403304,-0.002699499,-0.0580453947,-0.0654605851,0.0125308512,-0.0410718508,-0.0070825657,0.056470409,-0.0323643349,0.0546783172,-0.0462231785,-0.0047729299,-0.0195095502,-0.0096710492,-0.0141909439,-0.0245293453,0.0029346435,0.048642125,0.0235203523,0.0920794383,0.0159417447,-0.0060863076,0.0147143416,-0.0059922081,-0.0044885813,-0.0707468912,0.0005014409,-0.0552778319,0.0722631812,-0.0053333626,-0.0009537054,0.0431620143,0.0429006778,0.0290949177,-0.0478259027,0.0100202411,0.0138903577,-0.0079864059,-0.0356248394,0.0242556557,-0.0211326983,0.0307032522,0.0007840548,0.0102348924,-0.0021536567,-0.0126743028,-0.0068581807,-0.0542354025,-0.0028539437,-0.0272467304,-0.0136001846,-0.006785206,0.0925273001,0.0383718088,-0.0673253089,-0.0069787009,0.0403386131,0.0333566628,0.0470601767,-0.0021612602,0.0715314448,0.0810909271,0.0684688017,-0.0126548149,0.0946897715,0.0631163567,0.0023114865,0.0493554249,0.0078625428,-0.0110548781,0.0060631069,-0.031321045,0.0018161535,-0.0377486423,-0.0042965901,-0.0564837717,-0.063640587,0.0104252752,0.0048407307,0.0248973835,-0.0226542726,-0.0776808932,0.055372376,0.0000852577,0.0009953901,-0.036534939,0.0676605031,-0.0062399562,-0.0888932645,0.0423097424,0.050717894,0.0005808435,0.0224475004,0.0017736321,0.0014359842,0.0290333591,-0.0670063421,0.0414278023,0.0307575241,-0.0273074787,-0.0273273904,-0.0142746801,0.0051283515,-0.0074557927,-0.0310072284,0.0520540178,0.0333175957,0.0124306856,0.0077220742,0.0325266421,-0.0448489003,-0.0364452973,-0.0158026516,-0.0105108814,-0.0724190027,-0.014649787,-0.0263636932,0.0082003837,0.0439326502,0.0102844611,-0.0348918252,0.0628074333,0.0446257554,-0.0051714033,-0.0142284324,-0.0480098948,0.0353094377,-0.0494501293,-0.0157739781,0.0262584202,0.0590600148,-0.0004022811,0.0066778599,-0.0247176774,-0.0259127449,-0.0521056727,-0.0559345372,0.0108761434,-0.0238786917,-0.0522034466,0.0313965157,0.0190841258,-0.0069308067,-0.0094820978,0.0462679453,-0.0595736057,0.0051543307,0.0420931913,-0.0552074425,0.0188584737,0.0389738083,0.036060255,-0.0320271216,0.0492407195,0.0431964993,0.0018701751,0.0450807847,0.0466803312,0.0452752747,-0.0024400551,-0.0345566608,-0.0281855594,-0.0048028859,0.0387927219,-0.011157481,-0.0078028347,0.0624277182,0.0268704426,0.0044523426,0.030961616,0.0038874899,0.0040530828,0.011681472,0.0047454899,0.0132491319,-0.0572841354,-0.0348381884,-0.0045061144,-0.0439394303,-0.0190681182,0.0196133014,-0.0414289907,0.0300461538,-0.0198786277,-0.023064075,0.004796131,0.0245207418,-0.0092992922,-0.0027251276,0.0138590932,-0.0036504085,0.0165369958,0.0067444993,-0.0145464223,-0.0262541845,0.0188920423,0.0019363719,0.0111152818,-0.0128076654,0.0031462957,-0.0183458272,-0.0328776911,-0.0124949617,0.0059532523,0.0370079689,0.0053917896,-0.0184505004,-0.0481572822,0.0207361467,-0.0386822484,0.0983161852,-0.0337058455,0.0469429418,0.021279294,-0.0405105762,-0.0618560724,0.0025846108,-0.000344474,-0.0528426431,0.0192088783,0.0296478476,-0.0233428273,-0.0205890089,0.0300257634,0.0252361838,-0.0243173484,-0.0129918046,-0.0627756715,0.0055527766,-0.0484671034,-0.0098758619,-0.0005072382,0.003682089,0.0311897248,-0.0061272574,0.0045299651,-0.0326598957,0.0328039341,-0.0010859298,-0.0158056188,0.0260727629,0.0163945053,0.0046857256,0.026640052,-0.0020945198,-0.0241273493,-0.0013062849,-0.0069426037,0.0550736785,0.0287725758,0.0275611971,0.0203994475,-0.0068562096,0.0710475445,0.0201375969,0.0146494117,-0.0012797855,0.0001401461,0.0383828729,-0.0166713577,-0.0258113127,0.0232592616,0.0144117186,0.0070788069,0.0602415092,0.0098964367,-0.044454813,0.0665665865,0.0454729311,0.024970429,0.0281515215,-0.0037641148,-0.0863865614,0.0575488582,-0.0107000582,0.0061162282,-0.055052083,-0.0222846866,0.0050474615,-0.0042844778,0.0495481566,-0.031446524,-0.0883006155,-0.0245290939,-0.0272143893,0.0229444727,-0.0293973498,0.026539132,-0.0217911042,-0.0011082302,-0.0006955717,-0.007987692,-0.0182684921,0.0201961752,-0.0552377366,0.0320649147,0.0056608687,-0.0660875663,0.0405510515,-0.0380846113,0.0379521884,0.0400782824,-0.0147393849,-0.080294475,0.0424376428,-0.0288268514,0.0091930162,-0.0243554264,0.0101663023,0.0039229956,0.0182696115,0.0151559496,0.0741685703,-0.0360041,-0.0714158416,0.0344059765,-0.0402444974,0.0106622977,-0.0198720992,0.0209953394,-0.0406952277,-0.0206696838,0.0003008086,0.0374243744,0.0108421398,0.0449248515,-0.0082801506,-0.0129180392,0.0101488577,0.029820187,0.0378431678,0.0594615936,-0.0300081652,-0.0386081077,0.0308763813,0.0763993636,0.0071623363,0.0334660783,0.0021773702,0.047895398,-0.0113913212,0.0319635235,-0.0216709431,-0.0511673391,0.0621012859,0.0119163943,0.0054706354,-0.0031076025,-0.0272039324,0.0117740612,0.0113257226,0.0019522418,0.0035932274,-0.0249978863,-0.0072623901,-0.0440113917,0.0023133974,-0.0005329561,0.0017677465,0.0417231545,0.0177546218,-0.0378754549,0.0068363459,-0.0357597731,-0.0092658475,-0.024280915,-0.0335198231,0.0011777433,-0.0328192413,-0.0356962606,-0.0212475937,-0.0123806484,-0.0287147332,0.0104809972,-0.0381225273,0.0354240909,0.0168452226,-0.0209516194,-0.0072624194,-0.00051203,0.0344889723,-0.0315781608,-0.0531086773,0.0435794964,-0.0266416296,0.0080584697,-0.0470855981,-0.0492772795,-0.0184543785,-0.0109162852]}\n",
      "{\"id\":64240586,\"embedding\":[0.0520039275,-0.0069448389,-0.0713311583,0.0437349528,0.0132857673,-0.0126952715,0.0171753876,-0.014872483,-0.0143810026,0.0359940305,0.0674128905,0.0373811498,0.0517303646,-0.0535321496,-0.0818948299,0.0756760016,0.0378490873,-0.0025694384,-0.0075389883,0.0474182479,-0.0025003129,-0.0040125777,0.0201864243,0.0058483169,0.0294267461,0.0630427971,-0.0132604605,-0.0691871569,0.0643443912,0.0321008153,0.0127608823,0.0482693017,-0.0480812192,-0.0056331283,-0.026695909,0.0037957481,0.0025343229,0.0764145479,-0.0561715923,0.0119708749,-0.0421641953,0.0378201045,-0.0146091441,0.0637287945,0.0590397157,0.0476103611,0.0963250771,0.0477891006,0.01346213,0.0208385829,0.021491738,0.0092255231,0.0014328528,0.0288591478,-0.0229698177,0.051617194,-0.0325802527,-0.0365944393,0.0655855536,-0.0230296738,-0.0154059967,-0.0690549538,0.030135164,0.0090248585,-0.0093857097,0.0180137064,-0.0697748512,-0.0766294077,-0.0314787962,0.0671136826,-0.0393591262,-0.0074187312,-0.0639343858,-0.0116865765,0.0237766728,0.0123016872,-0.0037015523,-0.0116045978,0.013153634,0.0361699127,0.0067650457,0.0190815069,0.0125466976,0.0210806299,0.0078320764,0.0302562639,-0.0089588957,-0.0070793731,0.0162607823,0.0039443984,0.1312278509,0.059832871,-0.003421738,-0.0067600622,0.0161492303,-0.0264116097,0.0071521415,-0.0637215823,0.033654999,0.0201233458,-0.0170163214,0.0328174047,-0.0412350073,-0.109994404,-0.0006183048,0.0406609625,0.0331599042,-0.0913037434,-0.0379825644,0.0540656932,-0.0173198991,0.0144791435,0.0450886004,-0.0302600879,-0.0310163088,-0.0460644588,0.0216891114,0.0054482063,-0.0286777038,-0.0146709131,0.0067023542,0.0348646194,-0.0166611671,0.0676121414,-0.0396806411,-0.0212496966,0.0206619576,-0.011278186,-0.0771798417,-0.0524878651,0.0268407408,-0.0280652903,0.0209922381,-0.0194896962,-0.001372491,-0.0121868029,-0.0265523363,0.0470459014,0.0360250026,0.1111655459,0.0222618878,0.0296905059,-0.059371803,0.0164666176,-0.0237641521,-0.0096722273,0.0237679631,0.0678258166,0.0285926722,-0.0197089929,-0.0308872219,-0.0692362562,-0.0194433611,-0.0115641886,-0.0280926377,0.0030178644,0.0022575979,-0.0435910523,0.0004567164,-0.0018260077,0.021899106,-0.0256315786,-0.0350984484,-0.0185861178,-0.0006053353,-0.0286468863,-0.0670731142,-0.0123740882,-0.0313490331,0.0072071147,0.047390759,0.0147718703,-0.0413198806,-0.0500455685,-0.0470099896,0.0328336209,0.0036465749,0.0000320221,-0.0085714711,0.008809844,0.0333127491,0.0109040719,-0.0059064091,-0.0444990844,0.0122306952,-0.034607552,-0.0124182329,-0.0142001053,0.0962216929,-0.0289757401,0.0147167882,0.0145465806,-0.0157872532,0.0464281775,-0.0255106986,-0.0189559255,-0.0052484064,0.0487187095,0.0462013073,-0.0249718241,0.0117329611,0.0148944873,-0.0037023956,-0.0596867427,-0.0127765518,-0.0341925882,-0.0540864021,-0.006677174,-0.0321302302,-0.0064764973,-0.0303497519,-0.0075915433,-0.0028522538,-0.0043862308,0.0150984265,-0.0469209254,0.0401422344,-0.0138310399,0.0622552149,-0.022988027,0.0472301431,0.0396291837,-0.0547678769,0.0273048785,-0.0018647896,0.0414946638,-0.0376747139,-0.0399277471,0.0261960812,-0.0231838655,-0.0281566586,0.0271004345,-0.0021690731,0.0329212248,0.0296934284,0.1014799401,0.0888115913,0.0098625692,0.0004926817,-0.0072031445,-0.0175358094,-0.0826862231,0.0398928449,0.0160840601,0.1050888076,0.009424489,-0.0456546023,-0.0081908684,0.0482713729,-0.0313203186,0.0238153096,-0.0261313673,-0.0515522286,0.0195506383,-0.0303955823,-0.0005857696,-0.0279930569,-0.0055653048,-0.0185508598,-0.0250573568,0.0265308935,0.0170932114,-0.0189321451,-0.1374200732,-0.0165862311,-0.0608207509,-0.0513189957,-0.0193171017,0.057020124,0.025179049,0.07679037,-0.0135798147,-0.0005580705,-0.0120240562,-0.0147579229,0.0282471348,-0.0406709053,-0.0373850167,-0.0350915156,-0.0196483918,-0.0516494587,-0.029231593,-0.0022980534,-0.0489214435,0.0153881386,-0.0732025206,0.0058007487,0.0141610326,-0.0039348751,-0.0402255952,0.0642937273,0.0547109209,0.0063066003,-0.0434988774,-0.005594647,0.0187674593,0.0321729481,-0.0315543413,-0.0145556554,-0.0261292718,-0.0047282702,0.0460426621,-0.0321820416,0.0330125466,0.0196570102,0.0666804463,-0.0103139067,-0.0290779844,0.0244558062,0.0098574273,-0.0478301384,-0.0015224194,-0.0192409009,-0.0554706752,-0.0466829874,0.0161979496,-0.0415932834,-0.041732911,0.0463796183,0.0141485203,0.0095057739,-0.0089893518,-0.0261495877,-0.0023645076,0.0461596847,-0.013648673,0.0322168916,0.0083016176,-0.0001745059,-0.014379275,0.0027898895,-0.0035566171,-0.0354711153,-0.011475767,0.0239607021,0.0539130531,-0.0606944151,-0.0542828515,0.0032641925,0.024563795,0.0342973396,-0.0110300872,0.020007696,-0.0407042876,-0.0023839513,-0.0418750644,-0.0721758902,-0.0133125875,0.0544624254,-0.0097907409,-0.0412528366,-0.0224456433,-0.0617728084,-0.0381725021,0.0340963006,0.0058112442,-0.0007438518,0.0371081792,0.0404312685,0.0290547926,0.014161652,0.0453887172,0.0090760477,0.0454636663,0.0260978863,-0.0436049625,0.0646315217,0.036429923,0.0101493811,-0.0621376224,-0.0374190286,0.0483415499,0.0498930588,0.0225200448,0.053951975,-0.0314171985,-0.0584399477,-0.008945182,0.0214673709,0.0278743152,0.0841944218,0.0315874033,0.001660922,0.0055805757,0.0293851346,0.0547103845,-0.0877493471,0.0295603797,0.0300662518,0.008003654,-0.0765191019,0.0675025731,-0.0140227182,-0.0440550633,-0.0458532572,-0.0220231581,-0.0278809592,0.0289687607,-0.0037121107,0.0106832106,-0.023084363,-0.0206859987,-0.020811012,-0.0414527059,-0.0200166721,-0.0355426036,0.009880865,0.0534091145,0.0198362749,0.0897824541,0.0568030104,0.0000753686,0.0153953647,0.0083930297,-0.0161114056,-0.0169165172,0.0315560587,-0.0284708887,-0.0065551619,0.0301026087,-0.0176197831,-0.0029376904,-0.0226947609,0.0336396433,-0.0192428119,-0.017518077,-0.0227955431,-0.0155948875,-0.0049201762,0.020849362,0.0523884073,0.0465373322,0.0050869621,0.0442735702,0.011001816,0.0375657454,0.0076564238,-0.012858592,-0.0007177941,0.0592081621,0.0059534428,-0.0010237456,0.0342754535,0.0552425459,-0.0027927025,0.0590130799,0.04654276,-0.0290123057,-0.0350947976,0.0037961917,-0.0048677921,0.0376706123,0.0423918366,-0.0905595422,-0.0174009819,0.0055870735,0.0146967396,-0.003178864,-0.0110122701,-0.0221316721,0.0291655231,0.0099226804,0.0477829874,0.0374024808,-0.0314048082,-0.0175665002,0.0141875567,0.0517309532,0.0342965908,-0.016639512,0.013892117,0.0499127842,-0.0131212138,-0.0021921527,0.0235524569,0.0134008788,0.0372618884,0.0167187303,-0.0182102937,-0.0462283045,-0.0078009735,0.0276733469,-0.0143979639,-0.0179769862,-0.0087074079,-0.0110044181,0.0166817531,-0.0146817015,-0.000643713,0.0037183443,-0.0078624468,0.0209308397,-0.0322603583,0.0018190593,0.0322403088,0.0335208103,0.0285131335,0.0260265209,-0.0182810053,0.0224124994,0.0781543478,0.0282866806,0.0396016613,-0.0471717305,-0.0562622324,-0.0359219089,-0.0062902886,-0.0158990324,0.0439974889,0.0490542166,0.0153033463,-0.0211009309,0.0389422253,0.0194136556,-0.0254114363,0.0321915522,0.0518499613,0.0394684337,0.0276530571,0.041598659,-0.0761810765,-0.0185483191,-0.0135755278,-0.1015146524,-0.0251629725,-0.0186670609,0.0572298951,-0.0057969135,0.0251606442,0.0013893391,-0.0002175617,0.0029300873,-0.0042780815,0.044816196,0.0334193632,0.0581327938,0.0375985466,0.0164873432,0.0175761133,0.0385193601,-0.0240212791,0.0128570516,0.0155297499,0.018320933,0.0118361758,0.0045244657,-0.0004399664,0.0102801519,0.0052709281,0.0432495289,-0.0567476191,0.0211895835,0.0382649265,-0.0124468366,0.0028085129,-0.0024573398,-0.0240583289,-0.0066960282,-0.025851883,0.0497172289,0.0257301014,-0.0392828435,-0.0194919314,0.0016855964,0.0103782695,0.029492693,-0.0213096049,-0.0096034054,0.0207473058,-0.0204548202,-0.0238483585,0.0298283063,0.0314191729,-0.0564823449,0.0014913317,0.0332596004,-0.0841577277,0.0130102113,0.000530323,0.0115652625,0.0010719324,-0.0466435552,0.0587367527,-0.0533927456,0.0078007365,0.0068116877,0.0094412779,-0.0505329333,-0.0509039462,0.0007655025,-0.0598511733,0.0145068895,0.0199275706,0.000154498,0.0427464321,-0.0351846702,0.0349098295,-0.0021846683,-0.0188843012,0.0106367348,-0.0359472893,0.0068780086,-0.001020805,0.0204297006,-0.00913064,-0.055869326,-0.0419600867,-0.0072153443,-0.0099548576,-0.0318320915,-0.047076501,0.0051139067,-0.0104211047,-0.0314915664,-0.0087487902,0.0369415618,0.0349176712,-0.0425610431,-0.0215654094,0.0033598859,-0.012342005,-0.0129781812,-0.01800186,0.0592519641,-0.0415228419,0.0200534444,0.0189016387,0.0151435081,0.0670240521,0.0124546029,0.0142679308,-0.0002304411,0.0512295105,0.0434597395,-0.0204439461,0.0267638918,0.0311281048,-0.0076999897,0.0106738992,-0.0625955462,0.02864605,-0.0029317513,0.0421678759,0.0027962374,-0.0429300219,0.0476063192,0.01793468,-0.0547122993,-0.0083268862,0.0148684466,-0.0186391305,0.063410379,-0.0059129591,-0.0085307844,0.0322731808,0.0420095026,0.030355962,0.0056442232,0.0224094167,-0.0984856859,-0.0249061547,-0.0242141206,-0.0344073996,-0.0050852811,-0.0079893516,0.0429810397,-0.0417943001,-0.0231010001,-0.0081774555,0.0252134111,0.0615548417,0.0369540192,-0.0077498094,0.0037483876,0.0319010541,-0.0022402764,0.0240976736,0.0383964069,-0.0024696786,0.014364644,0.0017274431,-0.0600134134,-0.0138495537,0.0388297439,0.0178270433,0.0354453847,0.0316096209,-0.0389625765,-0.0076164785,-0.0097181285,0.0261401702,0.0046065142,0.009114665,-0.0580784231,0.0034756267,0.0315764062,-0.0012734851,0.0188458115,-0.0306512527,-0.020281462,0.0266537536,-0.0019005828,0.052553568,-0.0038954597,0.0206404869,-0.0506017692,0.0129199782,0.0470279008,-0.0457345471,-0.0402316377,-0.0729683489,-0.0082380297,-0.0028632304,-0.0083998134,-0.0077851592,0.0131221507,0.0246638693,0.0306756385,-0.0074571376,0.0061700805,0.0176725909,-0.006340804,0.0215542614,-0.0450347476,0.0615733005,0.02643108,0.0315740556,-0.0446652994,-0.0430307016,-0.0041977982,-0.0088819042,0.0155650256,0.0277274922,0.0237543732,-0.0397288315,-0.009687881,-0.0384724066,-0.0323931016,-0.0253577009,-0.0535250939,0.0398424119,-0.0642169118,-0.0091487672,0.0294263195,-0.0273272097,0.036251083,-0.023666285,-0.0516131409,-0.0273560043,-0.0335716531,-0.1023457497,0.0186274797,-0.0009779062,0.0406751931,-0.0909643993,-0.0357420444,0.0260483921,0.0040812539,0.0441749282,-0.0302539915,-0.0245578103,0.0065458575,-0.001973236,0.0069019697,-0.0604941361,-0.0601902492,0.0110893436,-0.0630691424]}\n"
     ]
    }
   ],
   "source": [
    "# save id and embedding as a json file\n",
    "jsonl_string = df[[\"id\", \"embedding\"]].to_json(orient=\"records\", lines=True)\n",
    "with open(\"questions.json\", \"w\") as f:\n",
    "    f.write(jsonl_string)\n",
    "\n",
    "# show the first few lines of the json file\n",
    "! head -n 3 questions.json"
   ]
  },
  {
   "cell_type": "markdown",
   "metadata": {
    "id": "-WTNJ3FAQl_W"
   },
   "source": [
    "Then, create a new Cloud Storage bucket and copy the file to it."
   ]
  },
  {
   "cell_type": "code",
   "execution_count": 14,
   "metadata": {
    "id": "CzwDWJfzAk3n",
    "tags": []
   },
   "outputs": [
    {
     "name": "stdout",
     "output_type": "stream",
     "text": [
      "Creating gs://qwiklabs-gcp-04-81cdda86ac7f-embvs-tutorial-10300518/...\n",
      "Copying file://questions.json [Content-Type=application/json]...\n",
      "/ [1 files][  9.8 MiB/  9.8 MiB]                                                \n",
      "Operation completed over 1 objects/9.8 MiB.                                      \n"
     ]
    }
   ],
   "source": [
    "BUCKET_URI = f\"gs://{PROJECT_ID}-embvs-tutorial-{UID}\"\n",
    "! gsutil mb -l $LOCATION -p {PROJECT_ID} {BUCKET_URI}\n",
    "! gsutil cp questions.json {BUCKET_URI}"
   ]
  },
  {
   "cell_type": "markdown",
   "metadata": {
    "id": "xxdbjKw1XDxl"
   },
   "source": [
    "### Create an Index\n",
    "\n",
    "Now it's ready to load the embeddings to Vector Search. Its APIs are available under the [aiplatform](https://cloud.google.com/python/docs/reference/aiplatform/latest/google.cloud.aiplatform) package of the SDK."
   ]
  },
  {
   "cell_type": "code",
   "execution_count": 15,
   "metadata": {
    "id": "8unyr9KagAoI",
    "tags": []
   },
   "outputs": [],
   "source": [
    "# init the aiplatform package\n",
    "from google.cloud import aiplatform\n",
    "\n",
    "aiplatform.init(project=PROJECT_ID, location=LOCATION)"
   ]
  },
  {
   "cell_type": "markdown",
   "metadata": {
    "id": "xpMUXqWQ75uu"
   },
   "source": [
    "Create an [MatchingEngineIndex](https://cloud.google.com/python/docs/reference/aiplatform/latest/google.cloud.aiplatform.MatchingEngineIndex) with its `create_tree_ah_index` function (Matching Engine is the previous name of Vector Search)."
   ]
  },
  {
   "cell_type": "code",
   "execution_count": 16,
   "metadata": {
    "id": "kKDw5VXMkXb3",
    "tags": []
   },
   "outputs": [
    {
     "name": "stdout",
     "output_type": "stream",
     "text": [
      "Creating MatchingEngineIndex\n",
      "Create MatchingEngineIndex backing LRO: projects/964288758604/locations/us-central1/indexes/3543185016601182208/operations/8721965769329475584\n",
      "MatchingEngineIndex created. Resource name: projects/964288758604/locations/us-central1/indexes/3543185016601182208\n",
      "To use this MatchingEngineIndex in another session:\n",
      "index = aiplatform.MatchingEngineIndex('projects/964288758604/locations/us-central1/indexes/3543185016601182208')\n"
     ]
    }
   ],
   "source": [
    "# create index\n",
    "my_index = aiplatform.MatchingEngineIndex.create_tree_ah_index(\n",
    "    display_name=f\"embvs-tutorial-index-{UID}\",\n",
    "    contents_delta_uri=BUCKET_URI,\n",
    "    dimensions=768,\n",
    "    approximate_neighbors_count=20,\n",
    "    distance_measure_type=\"DOT_PRODUCT_DISTANCE\",\n",
    ")"
   ]
  },
  {
   "cell_type": "markdown",
   "metadata": {
    "id": "2rFam_w9U0dI"
   },
   "source": [
    "By calling the `create_tree_ah_index` function, it starts building an Index. This will take under a few minutes if the dataset is small, otherwise about 50 minutes or more depending on the size of the dataset. You can check status of the index creation on [the Vector Search Console > INDEXES tab](https://console.cloud.google.com/vertex-ai/matching-engine/indexes).\n",
    "\n",
    "![](https://storage.googleapis.com/github-repo/img/embeddings/vs-quickstart/creating-index.png)\n",
    "\n",
    "#### The parameters for creating index\n",
    "\n",
    "- `contents_delta_uri`: The URI of Cloud Storage directory where you stored the embedding JSON files\n",
    "- `dimensions`: Dimension size of each embedding. In this case, it is 768 as we are using the embeddings from the Text Embeddings API.\n",
    "- `approximate_neighbors_count`: how many similar items we want to retrieve in typical cases\n",
    "- `distance_measure_type`: what metrics to measure distance/similarity between embeddings. In this case it's `DOT_PRODUCT_DISTANCE`\n",
    "\n",
    "See [the document](https://cloud.google.com/vertex-ai/docs/vector-search/create-manage-index) for more details on creating Index and the parameters.\n",
    "\n",
    "#### Batch Update or Streaming Update?\n",
    "There are two types of index: Index for *Batch Update* (used in this tutorial) and Index for *Streaming Updates*. The Batch Update index can be updated with a batch process whereas the Streaming Update index can be updated in real-time. The latter one is more suited for use cases where you want to add or update each embeddings in the index more often, and crucial to serve with the latest embeddings, such as e-commerce product search.\n"
   ]
  },
  {
   "cell_type": "markdown",
   "metadata": {
    "id": "VLOAMF50XMI8"
   },
   "source": [
    "### Create Index Endpoint and deploy the Index\n",
    "\n",
    "To use the Index, you need to create an [Index Endpoint](https://cloud.google.com/vertex-ai/docs/vector-search/deploy-index-public). It works as a server instance accepting query requests for your Index."
   ]
  },
  {
   "cell_type": "code",
   "execution_count": 17,
   "metadata": {
    "id": "h6IzyufWCjU1",
    "tags": []
   },
   "outputs": [
    {
     "name": "stdout",
     "output_type": "stream",
     "text": [
      "Creating MatchingEngineIndexEndpoint\n",
      "Create MatchingEngineIndexEndpoint backing LRO: projects/964288758604/locations/us-central1/indexEndpoints/8255498339202629632/operations/2387652893432872960\n",
      "MatchingEngineIndexEndpoint created. Resource name: projects/964288758604/locations/us-central1/indexEndpoints/8255498339202629632\n",
      "To use this MatchingEngineIndexEndpoint in another session:\n",
      "index_endpoint = aiplatform.MatchingEngineIndexEndpoint('projects/964288758604/locations/us-central1/indexEndpoints/8255498339202629632')\n"
     ]
    }
   ],
   "source": [
    "# create IndexEndpoint\n",
    "my_index_endpoint = aiplatform.MatchingEngineIndexEndpoint.create(\n",
    "    display_name=f\"embvs-tutorial-index-endpoint-{UID}\",\n",
    "    public_endpoint_enabled=True,\n",
    ")"
   ]
  },
  {
   "cell_type": "markdown",
   "metadata": {
    "id": "11e3e1a3a9e9"
   },
   "source": [
    "This tutorial utilizes a [Public Endpoint](https://cloud.google.com/vertex-ai/docs/vector-search/setup/setup#choose-endpoint) and does not support [Virtual Private Cloud (VPC)](https://cloud.google.com/vpc/docs/private-services-access). Unless you have a specific requirement for VPC, we recommend using a Public Endpoint. Despite the term \"public\" in its name, it does not imply open access to the public internet. Rather, it functions like other endpoints in Vertex AI services, which are secured by default through IAM. Without explicit IAM permissions, as we have previously established, no one can access the endpoint."
   ]
  },
  {
   "cell_type": "markdown",
   "metadata": {
    "id": "8n33iO1T5hFO"
   },
   "source": [
    "With the Index Endpoint, deploy the Index by specifying an unique deployed index ID."
   ]
  },
  {
   "cell_type": "code",
   "execution_count": 18,
   "metadata": {
    "id": "FcBHLifGwAWq",
    "tags": []
   },
   "outputs": [],
   "source": [
    "DEPLOYED_INDEX_ID = f\"embvs_tutorial_deployed_{UID}\""
   ]
  },
  {
   "cell_type": "code",
   "execution_count": 19,
   "metadata": {
    "id": "1jUoGhY5TPFP",
    "tags": []
   },
   "outputs": [
    {
     "name": "stdout",
     "output_type": "stream",
     "text": [
      "Deploying index MatchingEngineIndexEndpoint index_endpoint: projects/964288758604/locations/us-central1/indexEndpoints/8255498339202629632\n",
      "Deploy index MatchingEngineIndexEndpoint index_endpoint backing LRO: projects/964288758604/locations/us-central1/indexEndpoints/8255498339202629632/operations/3922254466459369472\n",
      "MatchingEngineIndexEndpoint index_endpoint Deployed index. Resource name: projects/964288758604/locations/us-central1/indexEndpoints/8255498339202629632\n"
     ]
    },
    {
     "data": {
      "text/plain": [
       "<google.cloud.aiplatform.matching_engine.matching_engine_index_endpoint.MatchingEngineIndexEndpoint object at 0x7fa3c6f26410> \n",
       "resource name: projects/964288758604/locations/us-central1/indexEndpoints/8255498339202629632"
      ]
     },
     "execution_count": 19,
     "metadata": {},
     "output_type": "execute_result"
    }
   ],
   "source": [
    "# deploy the Index to the Index Endpoint\n",
    "my_index_endpoint.deploy_index(index=my_index, deployed_index_id=DEPLOYED_INDEX_ID)"
   ]
  },
  {
   "cell_type": "markdown",
   "metadata": {
    "id": "xu9ZmWcpXQ55"
   },
   "source": [
    "If it is the first time to deploy an Index to an Index Endpoint, it will take around 25 minutes to automatically build and initiate the backend for it. After the first deployment, it will finish in seconds. To see the status of the index deployment, open [the Vector Search Console > INDEX ENDPOINTS tab](https://console.cloud.google.com/vertex-ai/matching-engine/index-endpoints) and click the Index Endpoint.\n",
    "\n",
    "<img src=\"https://storage.googleapis.com/github-repo/img/embeddings/vs-quickstart/deploying-index.png\" width=\"70%\">"
   ]
  },
  {
   "cell_type": "markdown",
   "metadata": {
    "id": "oTi4PjjbXV-O"
   },
   "source": [
    "### Run Query\n",
    "\n",
    "Finally it's ready to use Vector Search. In the following code, it creates an embedding for a test question, and find similar question with the Vector Search."
   ]
  },
  {
   "cell_type": "code",
   "execution_count": 20,
   "metadata": {
    "id": "FhNuRQqUWdfe",
    "tags": []
   },
   "outputs": [
    {
     "name": "stderr",
     "output_type": "stream",
     "text": [
      "100%|██████████| 1/1 [00:01<00:00,  1.22s/it]\n"
     ]
    }
   ],
   "source": [
    "test_embeddings = get_embeddings_wrapper([\"How to read JSON with Python?\"])"
   ]
  },
  {
   "cell_type": "code",
   "execution_count": 21,
   "metadata": {
    "id": "Q01DGMBPXAg-",
    "tags": []
   },
   "outputs": [
    {
     "name": "stdout",
     "output_type": "stream",
     "text": [
      "0.6598 Python - How To Decode JWT Header?\n",
      "0.6255 Passing a django dictionary ( or json file) to javascript function\n",
      "0.6080 console.log the data from json url using http get\n",
      "0.6050 How to extract inner dictionary key/value into a new dictionary in Python?\n",
      "0.5956 How to take the value of a key in mongodb using python\n",
      "0.5802 Fetching JSON which might contain null values\n",
      "0.5790 creating a Pandas dataframe from a nested dictionary within nested dictionary\n",
      "0.5726 Passing through Txt file formatted like Json\n",
      "0.5714 Converting objects to Pandas Dataframe\n",
      "0.5583 Compare if one JSON payload contains another JSON payload\n",
      "0.5440 How to parse un json string into a List with MOSHI\n",
      "0.5381 jq: Create JSON Object from flat keys\n",
      "0.5362 How can I use regex in python to find words between tags?\n",
      "0.5329 Why can't I read in .conll file with Python (confusing parse-error)?\n",
      "0.5329 Python regular expression file name match\n",
      "0.5325 How to pass a variable from a python script to flask application\n",
      "0.5266 Coursera Course - Introduction of Data Science in Python Assignment 1\n",
      "0.5237 Nested array in JSON to different rows in CSV\n",
      "0.5225 Python CSV, How to append data at the end of a row whilst reading it line by line (row by row)?\n",
      "0.5225 What are the JSON mapper libraries supported by Spring Boot?\n"
     ]
    }
   ],
   "source": [
    "# Test query\n",
    "response = my_index_endpoint.find_neighbors(\n",
    "    deployed_index_id=DEPLOYED_INDEX_ID,\n",
    "    queries=test_embeddings,\n",
    "    num_neighbors=20,\n",
    ")\n",
    "\n",
    "# show the result\n",
    "import numpy as np\n",
    "\n",
    "for idx, neighbor in enumerate(response[0]):\n",
    "    id = np.int64(neighbor.id)\n",
    "    similar = df.query(\"id == @id\", engine=\"python\")\n",
    "    print(f\"{neighbor.distance:.4f} {similar.title.values[0]}\")"
   ]
  },
  {
   "cell_type": "markdown",
   "metadata": {
    "id": "tPDOL9caoYZ9"
   },
   "source": [
    "The `find_neighbors` function only takes milliseconds to fetch the similar items even when you have billions of items on the Index, thanks to the ScaNN algorithm. Vector Search also supports [autoscaling](https://cloud.google.com/vertex-ai/docs/vector-search/deploy-index-public#autoscaling) which can automatically resize the number of nodes based on the demands of your workloads."
   ]
  },
  {
   "cell_type": "markdown",
   "metadata": {
    "id": "DDt4D6FDyc66"
   },
   "source": [
    "# IMPORTANT: Cleaning Up\n",
    "\n",
    "In case you are using your own Cloud project, not a temporary project on Qwiklab, please make sure to delete all the Indexes, Index Endpoints and Cloud Storage buckets after finishing this tutorial. Otherwise the remaining objects would **incur unexpected costs**.\n",
    "\n",
    "If you used Workbench, you may also need to delete the Notebooks from [the console](https://console.cloud.google.com/vertex-ai/workbench)."
   ]
  },
  {
   "cell_type": "code",
   "execution_count": null,
   "metadata": {
    "id": "MEsKVzguyxNx"
   },
   "outputs": [],
   "source": [
    "# wait for a confirmation\n",
    "input(\"Press Enter to delete Index Endpoint, Index and Cloud Storage bucket:\")\n",
    "\n",
    "# delete Index Endpoint\n",
    "my_index_endpoint.undeploy_all()\n",
    "my_index_endpoint.delete(force=True)\n",
    "\n",
    "# delete Index\n",
    "my_index.delete()\n",
    "\n",
    "# delete Cloud Storage bucket\n",
    "! gsutil rm -r {BUCKET_URI}"
   ]
  },
  {
   "cell_type": "markdown",
   "metadata": {
    "id": "b8k26QOF3Ys7"
   },
   "source": [
    "# Summary\n",
    "\n",
    "## Grounding LLM outputs with Vertex AI Vector Search\n",
    "\n",
    "As we have seen, by combining the Embeddings API and Vector Search, you can use the embeddings to \"ground\" LLM outputs to real business data with low latency.\n",
    "\n",
    "For example, if an user asks a question, Embeddings API can convert it to an embedding, and issue a query on Vector Search to find similar embeddings in its index. Those embeddings represent the actual business data in the databases. As we are just retrieving the business data and not generating any artificial texts, there is no risk of having hallucinations in the result.\n",
    "\n",
    "![](https://storage.googleapis.com/gweb-cloudblog-publish/original_images/10._grounding.png)\n",
    "\n",
    "### The difference between the questions and answers\n",
    "\n",
    "In this tutorial, we have used the Stack Overflow dataset. There is a reason why we had to use it; As the dataset has many pairs of **questions and answers**, so you can just find questions similar to your question to find answers to it.\n",
    "\n",
    "In many business use cases, the semantics (meaning) of questions and answers are different. Also, there could be cases where you would want to add variety of recommended or personalized items to the results, like product search on e-commerce sites.\n",
    "\n",
    "In these cases, the simple semantics search don't work well. It's more like a recommendation system problem where you may want to train a model (e.g. Two-Tower model) to learn the relationship between the question embedding space and answer embedding space. Also, many production systems adds reranking phase after the semantic search to achieve higher search quality. Please see [Scaling deep retrieval with TensorFlow Recommenders and Vertex AI Matching Engine](https://cloud.google.com/blog/products/ai-machine-learning/scaling-deep-retrieval-tensorflow-two-towers-architecture) to learn more.\n",
    "\n",
    "### Hybrid of semantic + keyword search\n",
    "\n",
    "Another typical challenge you will face in production system is to support keyword search combined with the semantic search. For example, for e-commerce product search, you may want to let users find product by entering its product name or model number. As LLM doesn't memorize those product names or model numbers, semantic search can't handle those \"usual\" search functionalities.\n",
    "\n",
    "[Vertex AI Search](https://cloud.google.com/blog/products/ai-machine-learning/vertex-ai-search-and-conversation-is-now-generally-available) is another product you may consider for those requirements. While Vector Search provides a simple semantic search capability only, Search provides a integrated search solution that combines semantic search, keyword search, reranking and filtering, available as an out-of-the-box tool.\n",
    "\n",
    "### What about Retrieval Augmented Generation (RAG)?\n",
    "\n",
    "In this tutorial, we have looked at the simple combination of LLM embeddings and vector search. From this starting point, you may also extend the design to [Retrieval Augmented Generation (RAG)](https://www.google.com/search?q=Retrieval+Augmented+Generation+(RAG)&oq=Retrieval+Augmented+Generation+(RAG)).\n",
    "\n",
    "RAG is a popular architecture pattern of implementing grounding with LLM with text chat UI. The idea is to have the LLM text chat UI as a frontend for the document retrieval with vector search and summarization of the result.\n",
    "\n",
    "![](https://storage.googleapis.com/gweb-cloudblog-publish/images/Figure-7-Ask_Your_Documents_Flow.max-529x434.png)\n",
    "\n",
    "There are some pros and cons between the two solutions.\n",
    "\n",
    "| | Embeddings + vector search | RAG |\n",
    "|---|---|---|\n",
    "| Design | simple | complex |\n",
    "| UI | Text search UI | Text chat UI |\n",
    "| Summarization of result | No | Yes |\n",
    "| Multi-turn (Context aware) | No | Yes |\n",
    "| Latency | milliseconds | seconds |\n",
    "| Cost | lower | higher |\n",
    "| Hallucinations | No risk | Some risk |\n",
    "\n",
    "The Embedding + vector search pattern we have looked at with this tutorial provides simple, fast and low cost semantic search functionality with the LLM intelligence. RAG adds context-aware text chat experience and result summarization to it. While RAG provides the more \"Gen AI-ish\" experience, it also adds a risk of hallucination and higher cost and time for the text generation.\n",
    "\n",
    "To learn more about how to build a RAG solution, you may look at [Building Generative AI applications made easy with Vertex AI PaLM API and LangChain](https://cloud.google.com/blog/products/ai-machine-learning/generative-ai-applications-with-vertex-ai-palm-2-models-and-langchain).\n",
    "\n",
    "## Resources\n",
    "\n",
    "To learn more, please check out the following resources:\n",
    "\n",
    "### Documentations\n",
    "\n",
    "[Vertex AI Embeddings for Text API documentation\n",
    "](https://cloud.google.com/vertex-ai/docs/generative-ai/embeddings/get-text-embeddings)\n",
    "\n",
    "[Vector Search documentation](https://cloud.google.com/vertex-ai/docs/matching-engine/overview)\n",
    "\n",
    "### Vector Search blog posts\n",
    "\n",
    "[Vertex Matching Engine: Blazing fast and massively scalable nearest neighbor search](https://cloud.google.com/blog/products/ai-machine-learning/vertex-matching-engine-blazing-fast-and-massively-scalable-nearest-neighbor-search)\n",
    "\n",
    "[Find anything blazingly fast with Google's vector search technology](https://cloud.google.com/blog/topics/developers-practitioners/find-anything-blazingly-fast-googles-vector-search-technology)\n",
    "\n",
    "[Enabling real-time AI with Streaming Ingestion in Vertex AI](https://cloud.google.com/blog/products/ai-machine-learning/real-time-ai-with-google-cloud-vertex-ai)\n",
    "\n",
    "[Mercari leverages Google's vector search technology to create a new marketplace](https://cloud.google.com/blog/topics/developers-practitioners/mercari-leverages-googles-vector-search-technology-create-new-marketplace)\n",
    "\n",
    "[Recommending news articles using Vertex AI Matching Engine](https://cloud.google.com/blog/products/ai-machine-learning/recommending-articles-using-vertex-ai-matching-engine)\n",
    "\n",
    "[What is Multimodal Search: \"LLMs with vision\" change businesses](https://cloud.google.com/blog/products/ai-machine-learning/multimodal-generative-ai-search)"
   ]
  },
  {
   "cell_type": "markdown",
   "metadata": {
    "id": "BE1tELsH-u8N"
   },
   "source": [
    "# Utilities\n",
    "\n",
    "Sometimes it takes tens of minutes to create or deploy Indexes and you would lose connection with the Colab runtime. In that case, instead of creating or deploying new Index again, you can check [the Vector Search Console](https://console.cloud.google.com/vertex-ai/matching-engine/index-endpoints) and get the existing ones to continue."
   ]
  },
  {
   "cell_type": "markdown",
   "metadata": {
    "id": "wF_pkdpJ-yaq"
   },
   "source": [
    "## Get an existing Index\n",
    "\n",
    "To get an Index object that already exists, replace the following `[your-index-id]` with the index ID and run the cell. You can check the ID on [the Vector Search Console > INDEXES tab](https://console.cloud.google.com/vertex-ai/matching-engine/indexes)."
   ]
  },
  {
   "cell_type": "code",
   "execution_count": null,
   "metadata": {
    "id": "mEBkZZt_-0jG"
   },
   "outputs": [],
   "source": [
    "my_index_id = \"[your-index-id]\"  # @param {type:\"string\"}\n",
    "my_index = aiplatform.MatchingEngineIndex(my_index_id)"
   ]
  },
  {
   "cell_type": "markdown",
   "metadata": {
    "id": "_vlgzkyw-3CI"
   },
   "source": [
    "## Get an existing Index Endpoint\n",
    "\n",
    "To get an Index Endpoint object that already exists, replace the following `[your-index-endpoint-id]` with the Index Endpoint ID and run the cell. You can check the ID on [the Vector Search Console > INDEX ENDPOINTS tab](https://console.cloud.google.com/vertex-ai/matching-engine/index-endpoints)."
   ]
  },
  {
   "cell_type": "code",
   "execution_count": null,
   "metadata": {
    "id": "E0OFnirF-6Rk"
   },
   "outputs": [],
   "source": [
    "my_index_endpoint_id = \"[your-index-endpoint-id]\"  # @param {type:\"string\"}\n",
    "my_index_endpoint = aiplatform.MatchingEngineIndexEndpoint(my_index_endpoint_id)"
   ]
  }
 ],
 "metadata": {
  "colab": {
   "name": "intro-textemb-vectorsearch.ipynb",
   "toc_visible": true
  },
  "environment": {
   "kernel": "conda-base-py",
   "name": "workbench-notebooks.m125",
   "type": "gcloud",
   "uri": "us-docker.pkg.dev/deeplearning-platform-release/gcr.io/workbench-notebooks:m125"
  },
  "kernelspec": {
   "display_name": "Python 3 (ipykernel) (Local)",
   "language": "python",
   "name": "conda-base-py"
  },
  "language_info": {
   "codemirror_mode": {
    "name": "ipython",
    "version": 3
   },
   "file_extension": ".py",
   "mimetype": "text/x-python",
   "name": "python",
   "nbconvert_exporter": "python",
   "pygments_lexer": "ipython3",
   "version": "3.10.15"
  }
 },
 "nbformat": 4,
 "nbformat_minor": 4
}
